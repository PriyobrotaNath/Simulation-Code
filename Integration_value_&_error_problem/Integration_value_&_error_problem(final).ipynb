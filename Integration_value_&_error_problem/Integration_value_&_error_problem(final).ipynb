{
  "nbformat": 4,
  "nbformat_minor": 0,
  "metadata": {
    "colab": {
      "name": "Integration_value_&_error_problem(final).ipynb",
      "provenance": []
    },
    "kernelspec": {
      "name": "python3",
      "display_name": "Python 3"
    }
  },
  "cells": [
    {
      "cell_type": "code",
      "metadata": {
        "id": "ESatfq1YM89_"
      },
      "source": [
        "import random\n",
        "import math\n",
        "import matplotlib.pyplot as plt"
      ],
      "execution_count": 6,
      "outputs": []
    },
    {
      "cell_type": "markdown",
      "metadata": {
        "id": "K4JyLQRWfQ68"
      },
      "source": [
        "#integration value"
      ]
    },
    {
      "cell_type": "code",
      "metadata": {
        "id": "ECv4DS2Wu0wK"
      },
      "source": [
        "def f(a):\n",
        "    return pow(a,3)-2\n",
        "\n",
        "def f(b):\n",
        "   return pow(b,3)-2\n",
        "\n",
        "def f(x):\n",
        "    return pow(x,3)-2"
      ],
      "execution_count": 7,
      "outputs": []
    },
    {
      "cell_type": "code",
      "metadata": {
        "id": "jROWLikzhU_E",
        "colab": {
          "base_uri": "https://localhost:8080/",
          "height": 371
        },
        "outputId": "1f0b4ff0-3181-40b5-cd45-2e0edfc94155"
      },
      "source": [
        "if __name__ == '__main__':\n",
        "  n =int(input(\"\\nEnter the number to generate points: \"))\n",
        "  trial_no=n \n",
        "  a=0\n",
        "  b=5\n",
        "  points=[]\n",
        "  hits_point=0\n",
        "  for _ in range(trial_no): \n",
        "    x=random.uniform(a,b)\n",
        "    if f(a) >f(b):\n",
        "      y=random.uniform(0,f(a))\n",
        "    elif f(a) < f(b):\n",
        "      y=random.uniform(0,f(b))   \n",
        "    points.append([x,y])\n",
        "  \n",
        "\n",
        "  \n",
        "  \n",
        "  print(f(a))\n",
        "  print(f(b))\n",
        "  print(f(x))\n",
        "\n",
        "\n",
        "  if y<= f(x): \n",
        "     hits_point+=1\n",
        "     plt.plot(x,y, 'go')\n",
        "  else:\n",
        "    plt.plot(x,y, 'ro') \n",
        "  I= (float(hits_point / trial_no) * (b-a) * f(b))\n",
        "  print('%0.4f' %I)\n",
        "\n",
        "  \n",
        "  plt.show()\n",
        "\n",
        "  \n",
        "  \n"
      ],
      "execution_count": 8,
      "outputs": [
        {
          "output_type": "stream",
          "text": [
            "\n",
            "Enter the number to generate points: 100\n",
            "-2\n",
            "123\n",
            "24.33034135949694\n",
            "6.1500\n"
          ],
          "name": "stdout"
        },
        {
          "output_type": "display_data",
          "data": {
            "image/png": "[encoded data removed]",
            "text/plain": [
              "<Figure size 432x288 with 1 Axes>"
            ]
          },
          "metadata": {
            "tags": [],
            "needs_background": "light"
          }
        }
      ]
    },
    {
      "cell_type": "markdown",
      "metadata": {
        "id": "ZY5VBnGSnFMI"
      },
      "source": [
        "#integration Error"
      ]
    },
    {
      "cell_type": "code",
      "metadata": {
        "colab": {
          "base_uri": "https://localhost:8080/"
        },
        "id": "6JjjAdUFrFWq",
        "outputId": "5636af6c-499e-4596-e12a-b5cac6d39098"
      },
      "source": [
        "a=0\n",
        "b=5\n",
        "def f(a):\n",
        "    return pow(a,3)-2\n",
        "\n",
        "def f(b):\n",
        "   return pow(b,3)-2\n",
        "\n",
        "def f(x):\n",
        "    return pow(x,3)-2\n",
        "\n",
        "print(f(a))\n",
        "print(f(b))\n",
        "print(f(x))"
      ],
      "execution_count": 9,
      "outputs": [
        {
          "output_type": "stream",
          "text": [
            "-2\n",
            "123\n",
            "24.33034135949694\n"
          ],
          "name": "stdout"
        }
      ]
    },
    {
      "cell_type": "code",
      "metadata": {
        "id": "80pPMEnepq3X"
      },
      "source": [
        "def intl_value(n=100):\n",
        "  trial_no=n \n",
        "  a=0\n",
        "  b=5\n",
        "  points=[]\n",
        "  hits_point=0\n",
        "  for _ in range(trial_no): \n",
        "    x=random.uniform(a,b)\n",
        "    if f(a) > f(b):\n",
        "      y=random.uniform(0,f(a))\n",
        "    elif f(a) < f(b):\n",
        "      y=random.uniform(0,f(b))   \n",
        "    points.append([x,y])\n",
        "  \n",
        "\n",
        "\n",
        "  if y<= f(x): \n",
        "     hits_point+=1 \n",
        "  I= (float(hits_point / trial_no) * (b-a) * f(b))\n",
        "  return I\n",
        "\n",
        "  \n",
        "  \n"
      ],
      "execution_count": 10,
      "outputs": []
    },
    {
      "cell_type": "code",
      "metadata": {
        "colab": {
          "base_uri": "https://localhost:8080/"
        },
        "id": "7-uCRvQqofxT",
        "outputId": "910ee30a-e501-4383-9bf5-024c646e6213"
      },
      "source": [
        "intl=[]\n",
        "avg_intl_values = []\n",
        "\n",
        "for i in range(trial_no):\n",
        "  intl.append(intl_value())\n",
        "  avg_intl = sum(intl) / len (intl)\n",
        "  avg_intl_values.append(avg_intl)\n",
        "intl"
      ],
      "execution_count": 11,
      "outputs": [
        {
          "output_type": "execute_result",
          "data": {
            "text/plain": [
              "[0.0,\n",
              " 6.15,\n",
              " 0.0,\n",
              " 0.0,\n",
              " 6.15,\n",
              " 6.15,\n",
              " 0.0,\n",
              " 0.0,\n",
              " 0.0,\n",
              " 0.0,\n",
              " 0.0,\n",
              " 6.15,\n",
              " 0.0,\n",
              " 0.0,\n",
              " 0.0,\n",
              " 0.0,\n",
              " 0.0,\n",
              " 0.0,\n",
              " 0.0,\n",
              " 0.0,\n",
              " 0.0,\n",
              " 6.15,\n",
              " 0.0,\n",
              " 0.0,\n",
              " 0.0,\n",
              " 0.0,\n",
              " 0.0,\n",
              " 0.0,\n",
              " 6.15,\n",
              " 0.0,\n",
              " 6.15,\n",
              " 6.15,\n",
              " 0.0,\n",
              " 0.0,\n",
              " 6.15,\n",
              " 0.0,\n",
              " 0.0,\n",
              " 0.0,\n",
              " 0.0,\n",
              " 0.0,\n",
              " 0.0,\n",
              " 0.0,\n",
              " 6.15,\n",
              " 0.0,\n",
              " 0.0,\n",
              " 0.0,\n",
              " 0.0,\n",
              " 0.0,\n",
              " 0.0,\n",
              " 6.15,\n",
              " 0.0,\n",
              " 0.0,\n",
              " 0.0,\n",
              " 0.0,\n",
              " 0.0,\n",
              " 0.0,\n",
              " 0.0,\n",
              " 0.0,\n",
              " 6.15,\n",
              " 0.0,\n",
              " 0.0,\n",
              " 6.15,\n",
              " 0.0,\n",
              " 0.0,\n",
              " 0.0,\n",
              " 0.0,\n",
              " 0.0,\n",
              " 6.15,\n",
              " 6.15,\n",
              " 0.0,\n",
              " 0.0,\n",
              " 0.0,\n",
              " 0.0,\n",
              " 6.15,\n",
              " 0.0,\n",
              " 0.0,\n",
              " 6.15,\n",
              " 0.0,\n",
              " 0.0,\n",
              " 0.0,\n",
              " 6.15,\n",
              " 0.0,\n",
              " 6.15,\n",
              " 0.0,\n",
              " 0.0,\n",
              " 0.0,\n",
              " 0.0,\n",
              " 0.0,\n",
              " 0.0,\n",
              " 0.0,\n",
              " 0.0,\n",
              " 0.0,\n",
              " 0.0,\n",
              " 0.0,\n",
              " 0.0,\n",
              " 0.0,\n",
              " 6.15,\n",
              " 6.15,\n",
              " 0.0,\n",
              " 0.0]"
            ]
          },
          "metadata": {
            "tags": []
          },
          "execution_count": 11
        }
      ]
    },
    {
      "cell_type": "code",
      "metadata": {
        "colab": {
          "base_uri": "https://localhost:8080/"
        },
        "id": "g5Aj6Zftoj3X",
        "outputId": "81f0e9a7-2d7f-47d2-91df-7641f3f36e70"
      },
      "source": [
        "theoritical_intl=146.25\n",
        "avg_intl_errors = [abs(theoritical_intl-intl) for intl in avg_intl_values]\n",
        "avg_intl_errors"
      ],
      "execution_count": 12,
      "outputs": [
        {
          "output_type": "execute_result",
          "data": {
            "text/plain": [
              "[146.25,\n",
              " 143.175,\n",
              " 144.2,\n",
              " 144.7125,\n",
              " 143.79,\n",
              " 143.175,\n",
              " 143.6142857142857,\n",
              " 143.94375,\n",
              " 144.2,\n",
              " 144.405,\n",
              " 144.57272727272726,\n",
              " 144.2,\n",
              " 144.3576923076923,\n",
              " 144.49285714285713,\n",
              " 144.61,\n",
              " 144.7125,\n",
              " 144.8029411764706,\n",
              " 144.88333333333333,\n",
              " 144.95526315789473,\n",
              " 145.02,\n",
              " 145.07857142857142,\n",
              " 144.85227272727272,\n",
              " 144.91304347826087,\n",
              " 144.96875,\n",
              " 145.02,\n",
              " 145.06730769230768,\n",
              " 145.11111111111111,\n",
              " 145.15178571428572,\n",
              " 144.97758620689655,\n",
              " 145.02,\n",
              " 144.86129032258066,\n",
              " 144.7125,\n",
              " 144.7590909090909,\n",
              " 144.8029411764706,\n",
              " 144.66857142857143,\n",
              " 144.7125,\n",
              " 144.75405405405405,\n",
              " 144.79342105263157,\n",
              " 144.83076923076922,\n",
              " 144.86625,\n",
              " 144.9,\n",
              " 144.93214285714285,\n",
              " 144.81976744186048,\n",
              " 144.85227272727272,\n",
              " 144.88333333333333,\n",
              " 144.91304347826087,\n",
              " 144.94148936170214,\n",
              " 144.96875,\n",
              " 144.99489795918367,\n",
              " 144.897,\n",
              " 144.92352941176472,\n",
              " 144.94903846153846,\n",
              " 144.97358490566037,\n",
              " 144.99722222222223,\n",
              " 145.02,\n",
              " 145.04196428571427,\n",
              " 145.06315789473683,\n",
              " 145.08362068965516,\n",
              " 144.99915254237288,\n",
              " 145.02,\n",
              " 145.04016393442623,\n",
              " 144.96048387096775,\n",
              " 144.98095238095237,\n",
              " 145.00078125,\n",
              " 145.02,\n",
              " 145.03863636363636,\n",
              " 145.05671641791045,\n",
              " 144.98382352941175,\n",
              " 144.91304347826087,\n",
              " 144.93214285714285,\n",
              " 144.95070422535213,\n",
              " 144.96875,\n",
              " 144.986301369863,\n",
              " 144.92027027027027,\n",
              " 144.938,\n",
              " 144.95526315789473,\n",
              " 144.89220779220778,\n",
              " 144.9096153846154,\n",
              " 144.92658227848102,\n",
              " 144.943125,\n",
              " 144.88333333333333,\n",
              " 144.9,\n",
              " 144.8421686746988,\n",
              " 144.85892857142858,\n",
              " 144.87529411764706,\n",
              " 144.89127906976745,\n",
              " 144.90689655172415,\n",
              " 144.92215909090908,\n",
              " 144.9370786516854,\n",
              " 144.95166666666665,\n",
              " 144.96593406593408,\n",
              " 144.97989130434783,\n",
              " 144.99354838709678,\n",
              " 145.00691489361702,\n",
              " 145.02,\n",
              " 145.0328125,\n",
              " 144.9819587628866,\n",
              " 144.93214285714285,\n",
              " 144.94545454545454,\n",
              " 144.9585]"
            ]
          },
          "metadata": {
            "tags": []
          },
          "execution_count": 12
        }
      ]
    },
    {
      "cell_type": "code",
      "metadata": {
        "colab": {
          "base_uri": "https://localhost:8080/",
          "height": 0
        },
        "id": "3Cg3tUOEnRbr",
        "outputId": "12572bc0-a47f-4c19-85be-2306d51076d7"
      },
      "source": [
        "plt.xlabel(\"Trial_no\")\n",
        "plt.ylabel(\"Error_value\")\n",
        "plt.plot(avg_intl_errors)"
      ],
      "execution_count": 13,
      "outputs": [
        {
          "output_type": "execute_result",
          "data": {
            "text/plain": [
              "[<matplotlib.lines.Line2D at 0x7f1f58a1a208>]"
            ]
          },
          "metadata": {
            "tags": []
          },
          "execution_count": 13
        },
        {
          "output_type": "display_data",
          "data": {
            "image/png": "[encoded data removed]",
            "text/plain": [
              "<Figure size 432x288 with 1 Axes>"
            ]
          },
          "metadata": {
            "tags": [],
            "needs_background": "light"
          }
        }
      ]
    }
  ]
}
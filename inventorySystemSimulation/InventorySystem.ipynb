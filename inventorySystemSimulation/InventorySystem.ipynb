{
  "nbformat": 4,
  "nbformat_minor": 0,
  "metadata": {
    "colab": {
      "name": "InventorySystem.ipynb",
      "provenance": [],
      "collapsed_sections": []
    },
    "kernelspec": {
      "name": "python3",
      "display_name": "Python 3"
    }
  },
  "cells": [
    {
      "cell_type": "code",
      "metadata": {
        "id": "dNhEe6hL2Dk1"
      },
      "source": [
        " from astropy.table import QTable, Table, Column\r\n",
        " from astropy import units as u\r\n",
        " import numpy as np\r\n",
        " import random "
      ],
      "execution_count": 1,
      "outputs": []
    },
    {
      "cell_type": "code",
      "metadata": {
        "colab": {
          "base_uri": "https://localhost:8080/",
          "height": 158
        },
        "id": "KWgdGPtq2iBD",
        "outputId": "b6b0802a-5b87-4660-eec3-0dbb35b3a1e1"
      },
      "source": [
        "\r\n",
        "a= ([0, 1,2,3,4])\r\n",
        "b= ([0.10, 0.25,0.35,0.21,0.09])\r\n",
        "c= ([0.10,0.35,0.70,0.91,1.00])\r\n",
        "d =[[1,10],[11,35],[36,70],[71,91],[92,100]]\r\n",
        "\r\n",
        "t = (Table([a, b,  c,  d], names=('Demand',  'Probability',  'Cumulative Probability', 'Random digit assignment')))\r\n",
        "t\r\n",
        "\r\n",
        " "
      ],
      "execution_count": 2,
      "outputs": [
        {
          "output_type": "execute_result",
          "data": {
            "text/html": [
              "<i>Table length=5</i>\n",
              "<table id=\"table140663774172608\" class=\"table-striped table-bordered table-condensed\">\n",
              "<thead><tr><th>Demand</th><th>Probability</th><th>Cumulative Probability</th><th>Random digit assignment [2]</th></tr></thead>\n",
              "<thead><tr><th>int64</th><th>float64</th><th>float64</th><th>int64</th></tr></thead>\n",
              "<tr><td>0</td><td>0.1</td><td>0.1</td><td>1 .. 10</td></tr>\n",
              "<tr><td>1</td><td>0.25</td><td>0.35</td><td>11 .. 35</td></tr>\n",
              "<tr><td>2</td><td>0.35</td><td>0.7</td><td>36 .. 70</td></tr>\n",
              "<tr><td>3</td><td>0.21</td><td>0.91</td><td>71 .. 91</td></tr>\n",
              "<tr><td>4</td><td>0.09</td><td>1.0</td><td>92 .. 100</td></tr>\n",
              "</table>"
            ],
            "text/plain": [
              "<Table length=5>\n",
              "Demand Probability Cumulative Probability Random digit assignment [2]\n",
              "int64    float64          float64                    int64           \n",
              "------ ----------- ---------------------- ---------------------------\n",
              "     0         0.1                    0.1                     1 .. 10\n",
              "     1        0.25                   0.35                    11 .. 35\n",
              "     2        0.35                    0.7                    36 .. 70\n",
              "     3        0.21                   0.91                    71 .. 91\n",
              "     4        0.09                    1.0                   92 .. 100"
            ]
          },
          "metadata": {
            "tags": []
          },
          "execution_count": 2
        }
      ]
    },
    {
      "cell_type": "code",
      "metadata": {
        "colab": {
          "base_uri": "https://localhost:8080/",
          "height": 123
        },
        "id": "biUzA9h1d_Ui",
        "outputId": "03e07793-7f84-4071-b061-37bc3ab5fefd"
      },
      "source": [
        " x=t['Random digit assignment']\r\n",
        " x\r\n",
        "\r\n",
        " "
      ],
      "execution_count": 3,
      "outputs": [
        {
          "output_type": "execute_result",
          "data": {
            "text/html": [
              "&lt;Column name=&apos;Random digit assignment&apos; dtype=&apos;int64&apos; shape=(2,) length=5&gt;\n",
              "<table>\n",
              "<tr><td>1 .. 10</td></tr>\n",
              "<tr><td>11 .. 35</td></tr>\n",
              "<tr><td>36 .. 70</td></tr>\n",
              "<tr><td>71 .. 91</td></tr>\n",
              "<tr><td>92 .. 100</td></tr>\n",
              "</table>"
            ],
            "text/plain": [
              "<Column name='Random digit assignment' dtype='int64' shape=(2,) length=5>\n",
              "  1 .. 10\n",
              " 11 .. 35\n",
              " 36 .. 70\n",
              " 71 .. 91\n",
              "92 .. 100"
            ]
          },
          "metadata": {
            "tags": []
          },
          "execution_count": 3
        }
      ]
    },
    {
      "cell_type": "code",
      "metadata": {
        "colab": {
          "base_uri": "https://localhost:8080/",
          "height": 123
        },
        "id": "cA1JbxTaeHPc",
        "outputId": "4e42cf5d-3bed-46fe-df68-fcc5dda23281"
      },
      "source": [
        "z=t['Demand']\r\n",
        "z"
      ],
      "execution_count": 4,
      "outputs": [
        {
          "output_type": "execute_result",
          "data": {
            "text/html": [
              "&lt;Column name=&apos;Demand&apos; dtype=&apos;int64&apos; length=5&gt;\n",
              "<table>\n",
              "<tr><td>0</td></tr>\n",
              "<tr><td>1</td></tr>\n",
              "<tr><td>2</td></tr>\n",
              "<tr><td>3</td></tr>\n",
              "<tr><td>4</td></tr>\n",
              "</table>"
            ],
            "text/plain": [
              "<Column name='Demand' dtype='int64' length=5>\n",
              "0\n",
              "1\n",
              "2\n",
              "3\n",
              "4"
            ]
          },
          "metadata": {
            "tags": []
          },
          "execution_count": 4
        }
      ]
    },
    {
      "cell_type": "code",
      "metadata": {
        "colab": {
          "base_uri": "https://localhost:8080/",
          "height": 123
        },
        "id": "QqlrX4q6-OTb",
        "outputId": "e368541a-4940-430b-9f60-94bf3037dc1c"
      },
      "source": [
        "\r\n",
        "a= ([ 1,2,3])\r\n",
        "b= ([0.6, 0.2,0.1])\r\n",
        "c= ([0.6,0.9,1.0])\r\n",
        "d =[[1,6],[7,9],[0,0]]\r\n",
        "\r\n",
        "t = (Table([a , b ,  c ,  d], names=('Demand',  'Probability',  'Cumulative Probability', 'Random digit assignment')))\r\n",
        "t\r\n",
        "\r\n"
      ],
      "execution_count": 5,
      "outputs": [
        {
          "output_type": "execute_result",
          "data": {
            "text/html": [
              "<i>Table length=3</i>\n",
              "<table id=\"table140663774172944\" class=\"table-striped table-bordered table-condensed\">\n",
              "<thead><tr><th>Demand</th><th>Probability</th><th>Cumulative Probability</th><th>Random digit assignment [2]</th></tr></thead>\n",
              "<thead><tr><th>int64</th><th>float64</th><th>float64</th><th>int64</th></tr></thead>\n",
              "<tr><td>1</td><td>0.6</td><td>0.6</td><td>1 .. 6</td></tr>\n",
              "<tr><td>2</td><td>0.2</td><td>0.9</td><td>7 .. 9</td></tr>\n",
              "<tr><td>3</td><td>0.1</td><td>1.0</td><td>0 .. 0</td></tr>\n",
              "</table>"
            ],
            "text/plain": [
              "<Table length=3>\n",
              "Demand Probability Cumulative Probability Random digit assignment [2]\n",
              "int64    float64          float64                    int64           \n",
              "------ ----------- ---------------------- ---------------------------\n",
              "     1         0.6                    0.6                      1 .. 6\n",
              "     2         0.2                    0.9                      7 .. 9\n",
              "     3         0.1                    1.0                      0 .. 0"
            ]
          },
          "metadata": {
            "tags": []
          },
          "execution_count": 5
        }
      ]
    },
    {
      "cell_type": "code",
      "metadata": {
        "colab": {
          "base_uri": "https://localhost:8080/",
          "height": 87
        },
        "id": "NVolczYxXucA",
        "outputId": "bab65c14-1d40-405e-eec2-0c7fc18c506a"
      },
      "source": [
        " m=t['Random digit assignment']\r\n",
        " m\r\n",
        "\r\n",
        " "
      ],
      "execution_count": 6,
      "outputs": [
        {
          "output_type": "execute_result",
          "data": {
            "text/html": [
              "&lt;Column name=&apos;Random digit assignment&apos; dtype=&apos;int64&apos; shape=(2,) length=3&gt;\n",
              "<table>\n",
              "<tr><td>1 .. 6</td></tr>\n",
              "<tr><td>7 .. 9</td></tr>\n",
              "<tr><td>0 .. 0</td></tr>\n",
              "</table>"
            ],
            "text/plain": [
              "<Column name='Random digit assignment' dtype='int64' shape=(2,) length=3>\n",
              "1 .. 6\n",
              "7 .. 9\n",
              "0 .. 0"
            ]
          },
          "metadata": {
            "tags": []
          },
          "execution_count": 6
        }
      ]
    },
    {
      "cell_type": "code",
      "metadata": {
        "colab": {
          "base_uri": "https://localhost:8080/",
          "height": 87
        },
        "id": "wkDwPjW0eRly",
        "outputId": "849dcedc-bd8b-4ac9-bd87-db9c5f3a6e1f"
      },
      "source": [
        "n=t['Demand']\r\n",
        "n"
      ],
      "execution_count": 7,
      "outputs": [
        {
          "output_type": "execute_result",
          "data": {
            "text/html": [
              "&lt;Column name=&apos;Demand&apos; dtype=&apos;int64&apos; length=3&gt;\n",
              "<table>\n",
              "<tr><td>1</td></tr>\n",
              "<tr><td>2</td></tr>\n",
              "<tr><td>3</td></tr>\n",
              "</table>"
            ],
            "text/plain": [
              "<Column name='Demand' dtype='int64' length=3>\n",
              "1\n",
              "2\n",
              "3"
            ]
          },
          "metadata": {
            "tags": []
          },
          "execution_count": 7
        }
      ]
    },
    {
      "cell_type": "code",
      "metadata": {
        "id": "ZkqoFWMxGBiZ"
      },
      "source": [
        "M=11 #stock limitation\r\n",
        "N=5  #days\r\n",
        "dailyDemand=0\r\n",
        "shortageQuantity=0 \r\n",
        "endingInventory=0\r\n",
        "daysArrived=1\r\n",
        "orderQuantity= 8\r\n",
        "startInventory=3\r\n",
        "\r\n"
      ],
      "execution_count": 8,
      "outputs": []
    },
    {
      "cell_type": "code",
      "metadata": {
        "colab": {
          "base_uri": "https://localhost:8080/"
        },
        "id": "mpxaFGXTHRcY",
        "outputId": "f99cac6f-9ac5-4de1-d5c5-8fee7dc4ea97"
      },
      "source": [
        "for i in range(1,6):\r\n",
        "  print(\"Cycle_No:\",str(i))\r\n",
        "  for j in range (1,6):\r\n",
        "    print(\"Day:\",j)\r\n",
        "    if (i==1 and j==1):\r\n",
        "      daysArrived=1\r\n",
        "      #print(\"DaysArrived\",daysArrived)\r\n",
        "      \r\n",
        "      startInventory=3\r\n",
        "      #print(\"Start Inventory\",startInventory)\r\n",
        "\r\n",
        "      orderQuantity= 8\r\n",
        "      print(\"Order Quantity\",orderQuantity)\r\n",
        "    else:\r\n",
        "      daysArrived=daysArrived-1\r\n",
        "      #print(\"Days Arrived:\",daysArrived)\r\n",
        "      startInventory=endingInventory\r\n",
        "      if (daysArrived== -1):\r\n",
        "        startInventory= endingInventory+orderQuantity\r\n",
        "        endingInventory=(startInventory-dailyDemand-shortageQuantity)\r\n",
        "        #print(\"Start Inventory:\",startInventory)\r\n",
        "    \r\n",
        "    y = random.uniform(1,100)\r\n",
        "    ran=int(y)\r\n",
        "    \r\n",
        "    \r\n",
        "    if (ran in range (1,11)):\r\n",
        "      dailyDemand=0\r\n",
        "      print(\"Demand 1 to 10: \",ran,\"->\",dailyDemand)\r\n",
        "    elif (ran in range (11,36)):\r\n",
        "     dailyDemand=1\r\n",
        "     print(\"Demand 11 to 35: \",ran,\"->\",dailyDemand) \r\n",
        "    elif (ran in range (36,71)):\r\n",
        "      dailyDemand=2\r\n",
        "      print(\"Demand 36 to 70: \",ran,\"->\",dailyDemand)\r\n",
        "    elif (ran in range (71,92)):\r\n",
        "      dailyDemand=3\r\n",
        "      print(\"Demand 71 to 91: \",ran,\"->\",dailyDemand)\r\n",
        "    elif (ran in range (92,101)):\r\n",
        "      dailyDemand=4\r\n",
        "      print(\"Demand 92 to 100: \",ran,\"->\",dailyDemand)\r\n",
        "    \r\n",
        "    endingInventory=(startInventory-dailyDemand)\r\n",
        "    \r\n",
        "    if (endingInventory<=0):\r\n",
        "      shortageQuantity+=dailyDemand\r\n",
        "\r\n",
        "    \r\n",
        "    if (j==N):\r\n",
        "      orderQuantity =M-endingInventory\r\n",
        "      z = random.uniform(1,10)\r\n",
        "      ran1=int(z)\r\n",
        "      print(\"Random Digit For Lead time: \",ran1)\r\n",
        "      \r\n",
        "      if (ran1 in range (1,7)):\r\n",
        "        leadTime=1\r\n",
        "        print(\"LeadTime 1 to 6: \",ran1,\"->\",leadTime)\r\n",
        "      elif (ran1 in range (7,10)):\r\n",
        "        leadTime=2\r\n",
        "        print(\"LeadTime 7 to 9: \",ran1,\"->\",leadTime) \r\n",
        "      elif (ran1 in range (0,0)):\r\n",
        "        leadTime=3\r\n",
        "        print(\"LeadTime 0: \",ran1,\"->\",leadTime)\r\n",
        "      daysArrived=leadTime\r\n",
        "      print(\"Order Quantity:\",orderQuantity)\r\n",
        "       \r\n",
        "\r\n",
        "\r\n",
        "    \r\n",
        "    print(\"Start Inventory:\",startInventory)\r\n",
        "    print(\"Days Arrived:\",daysArrived) \r\n",
        "    \r\n",
        "    print(\"Shortage Quantity:\",shortageQuantity)\r\n",
        "    print(\"Random Digit For Dimand :\",ran)\r\n",
        "    print(\"Ending Inventory\",endingInventory)\r\n",
        "    \r\n",
        "    \r\n",
        "    \r\n",
        "    \r\n",
        "\r\n",
        "    \r\n",
        "\r\n",
        "\r\n",
        "\r\n",
        "    \r\n"
      ],
      "execution_count": 9,
      "outputs": [
        {
          "output_type": "stream",
          "text": [
            "Cycle_No: 1\n",
            "Day: 1\n",
            "Order Quantity 8\n",
            "Demand 11 to 35:  30 -> 1\n",
            "Start Inventory: 3\n",
            "Days Arrived: 1\n",
            "Shortage Quantity: 0\n",
            "Random Digit For Dimand : 30\n",
            "Ending Inventory 2\n",
            "Day: 2\n",
            "Demand 71 to 91:  87 -> 3\n",
            "Start Inventory: 2\n",
            "Days Arrived: 0\n",
            "Shortage Quantity: 3\n",
            "Random Digit For Dimand : 87\n",
            "Ending Inventory -1\n",
            "Day: 3\n",
            "Demand 92 to 100:  96 -> 4\n",
            "Start Inventory: 7\n",
            "Days Arrived: -1\n",
            "Shortage Quantity: 3\n",
            "Random Digit For Dimand : 96\n",
            "Ending Inventory 3\n",
            "Day: 4\n",
            "Demand 11 to 35:  34 -> 1\n",
            "Start Inventory: 3\n",
            "Days Arrived: -2\n",
            "Shortage Quantity: 3\n",
            "Random Digit For Dimand : 34\n",
            "Ending Inventory 2\n",
            "Day: 5\n",
            "Demand 1 to 10:  9 -> 0\n",
            "Random Digit For Lead time:  6\n",
            "LeadTime 1 to 6:  6 -> 1\n",
            "Order Quantity: 9\n",
            "Start Inventory: 2\n",
            "Days Arrived: 1\n",
            "Shortage Quantity: 3\n",
            "Random Digit For Dimand : 9\n",
            "Ending Inventory 2\n",
            "Cycle_No: 2\n",
            "Day: 1\n",
            "Demand 36 to 70:  44 -> 2\n",
            "Start Inventory: 2\n",
            "Days Arrived: 0\n",
            "Shortage Quantity: 5\n",
            "Random Digit For Dimand : 44\n",
            "Ending Inventory 0\n",
            "Day: 2\n",
            "Demand 36 to 70:  38 -> 2\n",
            "Start Inventory: 9\n",
            "Days Arrived: -1\n",
            "Shortage Quantity: 5\n",
            "Random Digit For Dimand : 38\n",
            "Ending Inventory 7\n",
            "Day: 3\n",
            "Demand 11 to 35:  12 -> 1\n",
            "Start Inventory: 7\n",
            "Days Arrived: -2\n",
            "Shortage Quantity: 5\n",
            "Random Digit For Dimand : 12\n",
            "Ending Inventory 6\n",
            "Day: 4\n",
            "Demand 36 to 70:  36 -> 2\n",
            "Start Inventory: 6\n",
            "Days Arrived: -3\n",
            "Shortage Quantity: 5\n",
            "Random Digit For Dimand : 36\n",
            "Ending Inventory 4\n",
            "Day: 5\n",
            "Demand 11 to 35:  30 -> 1\n",
            "Random Digit For Lead time:  1\n",
            "LeadTime 1 to 6:  1 -> 1\n",
            "Order Quantity: 8\n",
            "Start Inventory: 4\n",
            "Days Arrived: 1\n",
            "Shortage Quantity: 5\n",
            "Random Digit For Dimand : 30\n",
            "Ending Inventory 3\n",
            "Cycle_No: 3\n",
            "Day: 1\n",
            "Demand 1 to 10:  4 -> 0\n",
            "Start Inventory: 3\n",
            "Days Arrived: 0\n",
            "Shortage Quantity: 5\n",
            "Random Digit For Dimand : 4\n",
            "Ending Inventory 3\n",
            "Day: 2\n",
            "Demand 92 to 100:  96 -> 4\n",
            "Start Inventory: 11\n",
            "Days Arrived: -1\n",
            "Shortage Quantity: 5\n",
            "Random Digit For Dimand : 96\n",
            "Ending Inventory 7\n",
            "Day: 3\n",
            "Demand 71 to 91:  83 -> 3\n",
            "Start Inventory: 7\n",
            "Days Arrived: -2\n",
            "Shortage Quantity: 5\n",
            "Random Digit For Dimand : 83\n",
            "Ending Inventory 4\n",
            "Day: 4\n",
            "Demand 11 to 35:  20 -> 1\n",
            "Start Inventory: 4\n",
            "Days Arrived: -3\n",
            "Shortage Quantity: 5\n",
            "Random Digit For Dimand : 20\n",
            "Ending Inventory 3\n",
            "Day: 5\n",
            "Demand 11 to 35:  23 -> 1\n",
            "Random Digit For Lead time:  4\n",
            "LeadTime 1 to 6:  4 -> 1\n",
            "Order Quantity: 9\n",
            "Start Inventory: 3\n",
            "Days Arrived: 1\n",
            "Shortage Quantity: 5\n",
            "Random Digit For Dimand : 23\n",
            "Ending Inventory 2\n",
            "Cycle_No: 4\n",
            "Day: 1\n",
            "Demand 1 to 10:  10 -> 0\n",
            "Start Inventory: 2\n",
            "Days Arrived: 0\n",
            "Shortage Quantity: 5\n",
            "Random Digit For Dimand : 10\n",
            "Ending Inventory 2\n",
            "Day: 2\n",
            "Demand 11 to 35:  24 -> 1\n",
            "Start Inventory: 11\n",
            "Days Arrived: -1\n",
            "Shortage Quantity: 5\n",
            "Random Digit For Dimand : 24\n",
            "Ending Inventory 10\n",
            "Day: 3\n",
            "Demand 71 to 91:  79 -> 3\n",
            "Start Inventory: 10\n",
            "Days Arrived: -2\n",
            "Shortage Quantity: 5\n",
            "Random Digit For Dimand : 79\n",
            "Ending Inventory 7\n",
            "Day: 4\n",
            "Demand 1 to 10:  1 -> 0\n",
            "Start Inventory: 7\n",
            "Days Arrived: -3\n",
            "Shortage Quantity: 5\n",
            "Random Digit For Dimand : 1\n",
            "Ending Inventory 7\n",
            "Day: 5\n",
            "Demand 36 to 70:  67 -> 2\n",
            "Random Digit For Lead time:  2\n",
            "LeadTime 1 to 6:  2 -> 1\n",
            "Order Quantity: 6\n",
            "Start Inventory: 7\n",
            "Days Arrived: 1\n",
            "Shortage Quantity: 5\n",
            "Random Digit For Dimand : 67\n",
            "Ending Inventory 5\n",
            "Cycle_No: 5\n",
            "Day: 1\n",
            "Demand 36 to 70:  44 -> 2\n",
            "Start Inventory: 5\n",
            "Days Arrived: 0\n",
            "Shortage Quantity: 5\n",
            "Random Digit For Dimand : 44\n",
            "Ending Inventory 3\n",
            "Day: 2\n",
            "Demand 11 to 35:  22 -> 1\n",
            "Start Inventory: 9\n",
            "Days Arrived: -1\n",
            "Shortage Quantity: 5\n",
            "Random Digit For Dimand : 22\n",
            "Ending Inventory 8\n",
            "Day: 3\n",
            "Demand 71 to 91:  84 -> 3\n",
            "Start Inventory: 8\n",
            "Days Arrived: -2\n",
            "Shortage Quantity: 5\n",
            "Random Digit For Dimand : 84\n",
            "Ending Inventory 5\n",
            "Day: 4\n",
            "Demand 92 to 100:  93 -> 4\n",
            "Start Inventory: 5\n",
            "Days Arrived: -3\n",
            "Shortage Quantity: 5\n",
            "Random Digit For Dimand : 93\n",
            "Ending Inventory 1\n",
            "Day: 5\n",
            "Demand 71 to 91:  86 -> 3\n",
            "Random Digit For Lead time:  3\n",
            "LeadTime 1 to 6:  3 -> 1\n",
            "Order Quantity: 13\n",
            "Start Inventory: 1\n",
            "Days Arrived: 1\n",
            "Shortage Quantity: 8\n",
            "Random Digit For Dimand : 86\n",
            "Ending Inventory -2\n"
          ],
          "name": "stdout"
        }
      ]
    }
  ]
}
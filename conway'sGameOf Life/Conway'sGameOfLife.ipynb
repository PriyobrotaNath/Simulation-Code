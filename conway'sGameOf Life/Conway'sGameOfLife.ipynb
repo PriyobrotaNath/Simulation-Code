{
  "nbformat": 4,
  "nbformat_minor": 0,
  "metadata": {
    "colab": {
      "name": "Conway'sGameOfLife.ipynb",
      "provenance": [],
      "collapsed_sections": []
    },
    "kernelspec": {
      "name": "python3",
      "display_name": "Python 3"
    }
  },
  "cells": [
    {
      "cell_type": "markdown",
      "metadata": {
        "id": "WwnL1hoFqt_i"
      },
      "source": [
        "#task1"
      ]
    },
    {
      "cell_type": "code",
      "metadata": {
        "colab": {
          "base_uri": "https://localhost:8080/"
        },
        "id": "MjP59uc2qtbb",
        "outputId": "50e7eeb4-b8da-46b8-ffae-a5d14c0a620a"
      },
      "source": [
        "import numpy as np\r\n",
        "import matplotlib.pyplot as plt\r\n",
        "import matplotlib.animation as animation\r\n",
        "from matplotlib import animation\r\n",
        "%pylab inline\r\n",
        "\r\n",
        "\r\n",
        "\r\n",
        "\r\n"
      ],
      "execution_count": 287,
      "outputs": [
        {
          "output_type": "stream",
          "text": [
            "Populating the interactive namespace from numpy and matplotlib\n"
          ],
          "name": "stdout"
        }
      ]
    },
    {
      "cell_type": "code",
      "metadata": {
        "id": "CsPNbG1uxmKf"
      },
      "source": [
        "n=col=row=5\r\n",
        "no_generations=3\r\n"
      ],
      "execution_count": 288,
      "outputs": []
    },
    {
      "cell_type": "code",
      "metadata": {
        "id": "rKtORcEOyT4C"
      },
      "source": [
        "def conways(n,no_generations):\r\n",
        "  G_prev = matrix=np.zeros((col,row))\r\n",
        "  G_prev[1,2]=G_prev[1,3]=G_prev[1,4]=G_prev[2,1]=G_prev[2,2]=G_prev[2,3]=1\r\n",
        "  t=1\r\n",
        "  print(\"Generation-\",t)\r\n",
        "  print(G_prev)\r\n",
        "  \r\n",
        "  \r\n",
        "  for gen in range(1,no_generations,1):\r\n",
        "    G_next=matrix=np.zeros((col,row))\r\n",
        "    for i in range(n):\r\n",
        "      for j in range(n):\r\n",
        "        c=0\r\n",
        "        if(i-1>=0 and j-1>=0 and G_prev[i-1][j-1]==1):\r\n",
        "          c=c+1\r\n",
        "        if(i-1>=0 and j>=0 and G_prev[i-1][j]==1):\r\n",
        "          c=c+1\r\n",
        "        if(i-1>0 and j+1<n-1 and G_prev[i-1][j+1]==1):\r\n",
        "          c=c+1 \r\n",
        "        if(i>=0 and j-1>=0 and G_prev[i][j-1]==1):\r\n",
        "          c=c+1 \r\n",
        "        if(i>=0 and j+1<=n-1 and G_prev[i][j+1]==1):\r\n",
        "          c=c+1   \r\n",
        "        if(i+1<=n-1 and j-1>=0 and G_prev[i+1][j-1]==1):\r\n",
        "          c=c+1\r\n",
        "        if(i+1<=n-1 and j>=0 and G_prev[i+1][j]==1):\r\n",
        "          c=c+1    \r\n",
        "        if(i+1<=n-1 and j+1<=n-1 and G_prev[i+1][j+1]==1):\r\n",
        "          c=c+1\r\n",
        "        \r\n",
        "        \r\n",
        "\r\n",
        "        if(G_prev[i][j]==1):\r\n",
        "          if(c==2 or c==3):\r\n",
        "            G_next[i][j]=1\r\n",
        "          elif(c<2):\r\n",
        "            G_next[i][j]=0\r\n",
        "          elif(c>3):\r\n",
        "            G_next[i][j]=0\r\n",
        "          \r\n",
        "          \r\n",
        "          if(G_prev[i][j]==0):\r\n",
        "            if(c==3):\r\n",
        "              G_next[i][j]=1\r\n",
        "            \r\n",
        "\r\n",
        "    \r\n",
        "    G_prev=G_next\r\n",
        "    t=t+1\r\n",
        "    print()\r\n",
        "    print(\"Generation-\",t)\r\n",
        "    print()\r\n",
        "    print(G_prev)\r\n",
        "    print()  \r\n",
        "\r\n",
        "\r\n",
        "    \r\n",
        "\t \t\t\r\n",
        "   \t\r\n",
        "   \r\n"
      ],
      "execution_count": 289,
      "outputs": []
    },
    {
      "cell_type": "code",
      "metadata": {
        "id": "Wl4zK_LJrVYH"
      },
      "source": [
        "def life_animation(X, dpi=10, frames=10, interval=300, mode='loop'):\r\n",
        "   \r\n",
        "    X = G_prev\r\n",
        "    assert X.ndim == G_prev\r\n",
        "    X = X.astype(bool)\r\n",
        "    \r\n",
        "    X_blank = np.zeros_like(X)\r\n",
        "    figsize = (X.shape[1] * 1. / dpi, X.shape[0] * 1. / dpi)\r\n",
        "\r\n",
        "    fig = plt.figure(figsize=figsize, dpi=dpi)\r\n",
        "    ax = fig.add_axes([0, 0, 1, 1], xticks=[], yticks=[], frameon=False)\r\n",
        "    im = ax.imshow(X, cmap=plt.cm.binary, interpolation='nearest')\r\n",
        "    im.set_clim(-0.05, 1)  # Make background gray\r\n"
      ],
      "execution_count": 290,
      "outputs": []
    },
    {
      "cell_type": "code",
      "metadata": {
        "colab": {
          "base_uri": "https://localhost:8080/",
          "height": 790
        },
        "id": "gs4fraeQ5ByJ",
        "outputId": "3276d69c-0f37-4694-b0af-2a38ef59e8bb"
      },
      "source": [
        "if __name__== \"_main_\":\r\n",
        "\r\n",
        "  \"\"\"  \r\n",
        "  \"\"\"    \r\n",
        "conways(n,no_generations)\r\n",
        "X = G_prev\r\n",
        "life_animation(X, dpi=5, frames=3)    \r\n",
        "    \r\n",
        "\r\n",
        "  \r\n",
        "\r\n",
        "  "
      ],
      "execution_count": 291,
      "outputs": [
        {
          "output_type": "stream",
          "text": [
            "Generation- 1\n",
            "[[0. 0. 0. 0. 0.]\n",
            " [0. 0. 1. 1. 1.]\n",
            " [0. 1. 1. 1. 0.]\n",
            " [0. 0. 0. 0. 0.]\n",
            " [0. 0. 0. 0. 0.]]\n",
            "\n",
            "Generation- 2\n",
            "\n",
            "[[0. 0. 0. 0. 0.]\n",
            " [0. 0. 0. 0. 1.]\n",
            " [0. 1. 0. 1. 0.]\n",
            " [0. 0. 0. 0. 0.]\n",
            " [0. 0. 0. 0. 0.]]\n",
            "\n",
            "\n",
            "Generation- 3\n",
            "\n",
            "[[0. 0. 0. 0. 0.]\n",
            " [0. 0. 0. 0. 0.]\n",
            " [0. 0. 0. 0. 0.]\n",
            " [0. 0. 0. 0. 0.]\n",
            " [0. 0. 0. 0. 0.]]\n",
            "\n"
          ],
          "name": "stdout"
        },
        {
          "output_type": "error",
          "ename": "AttributeError",
          "evalue": "ignored",
          "traceback": [
            "\u001b[0;31m---------------------------------------------------------------------------\u001b[0m",
            "\u001b[0;31mAttributeError\u001b[0m                            Traceback (most recent call last)",
            "\u001b[0;32m<ipython-input-291-43c158aca947>\u001b[0m in \u001b[0;36m<module>\u001b[0;34m()\u001b[0m\n\u001b[1;32m      5\u001b[0m \u001b[0mconways\u001b[0m\u001b[0;34m(\u001b[0m\u001b[0mn\u001b[0m\u001b[0;34m,\u001b[0m\u001b[0mno_generations\u001b[0m\u001b[0;34m)\u001b[0m\u001b[0;34m\u001b[0m\u001b[0;34m\u001b[0m\u001b[0m\n\u001b[1;32m      6\u001b[0m \u001b[0mX\u001b[0m \u001b[0;34m=\u001b[0m \u001b[0mG_prev\u001b[0m\u001b[0;34m\u001b[0m\u001b[0;34m\u001b[0m\u001b[0m\n\u001b[0;32m----> 7\u001b[0;31m \u001b[0mlife_animation\u001b[0m\u001b[0;34m(\u001b[0m\u001b[0mX\u001b[0m\u001b[0;34m,\u001b[0m \u001b[0mdpi\u001b[0m\u001b[0;34m=\u001b[0m\u001b[0;36m5\u001b[0m\u001b[0;34m,\u001b[0m \u001b[0mframes\u001b[0m\u001b[0;34m=\u001b[0m\u001b[0;36m3\u001b[0m\u001b[0;34m)\u001b[0m\u001b[0;34m\u001b[0m\u001b[0;34m\u001b[0m\u001b[0m\n\u001b[0m\u001b[1;32m      8\u001b[0m \u001b[0;34m\u001b[0m\u001b[0m\n\u001b[1;32m      9\u001b[0m \u001b[0;34m\u001b[0m\u001b[0m\n",
            "\u001b[0;32m<ipython-input-290-e461a2ca891e>\u001b[0m in \u001b[0;36mlife_animation\u001b[0;34m(X, dpi, frames, interval, mode)\u001b[0m\n\u001b[1;32m      2\u001b[0m \u001b[0;34m\u001b[0m\u001b[0m\n\u001b[1;32m      3\u001b[0m     \u001b[0mX\u001b[0m \u001b[0;34m=\u001b[0m \u001b[0mG_prev\u001b[0m\u001b[0;34m\u001b[0m\u001b[0;34m\u001b[0m\u001b[0m\n\u001b[0;32m----> 4\u001b[0;31m     \u001b[0;32massert\u001b[0m \u001b[0mX\u001b[0m\u001b[0;34m.\u001b[0m\u001b[0mndim\u001b[0m \u001b[0;34m==\u001b[0m \u001b[0mG_prev\u001b[0m\u001b[0;34m\u001b[0m\u001b[0;34m\u001b[0m\u001b[0m\n\u001b[0m\u001b[1;32m      5\u001b[0m     \u001b[0mX\u001b[0m \u001b[0;34m=\u001b[0m \u001b[0mX\u001b[0m\u001b[0;34m.\u001b[0m\u001b[0mastype\u001b[0m\u001b[0;34m(\u001b[0m\u001b[0mbool\u001b[0m\u001b[0;34m)\u001b[0m\u001b[0;34m\u001b[0m\u001b[0;34m\u001b[0m\u001b[0m\n\u001b[1;32m      6\u001b[0m \u001b[0;34m\u001b[0m\u001b[0m\n",
            "\u001b[0;31mAttributeError\u001b[0m: 'function' object has no attribute 'ndim'"
          ]
        }
      ]
    },
    {
      "cell_type": "markdown",
      "metadata": {
        "id": "EHBgXsqvYhB6"
      },
      "source": [
        "#Task2"
      ]
    },
    {
      "cell_type": "code",
      "metadata": {
        "colab": {
          "base_uri": "https://localhost:8080/",
          "height": 292
        },
        "id": "03psqwUCYpfr",
        "outputId": "2d3ca129-0ffa-49aa-b7a4-12afa39ed6b9"
      },
      "source": [
        "life_animation(X, dpi=5, frames=3)"
      ],
      "execution_count": 292,
      "outputs": [
        {
          "output_type": "error",
          "ename": "AttributeError",
          "evalue": "ignored",
          "traceback": [
            "\u001b[0;31m---------------------------------------------------------------------------\u001b[0m",
            "\u001b[0;31mAttributeError\u001b[0m                            Traceback (most recent call last)",
            "\u001b[0;32m<ipython-input-292-94b661c9fcde>\u001b[0m in \u001b[0;36m<module>\u001b[0;34m()\u001b[0m\n\u001b[0;32m----> 1\u001b[0;31m \u001b[0mlife_animation\u001b[0m\u001b[0;34m(\u001b[0m\u001b[0mX\u001b[0m\u001b[0;34m,\u001b[0m \u001b[0mdpi\u001b[0m\u001b[0;34m=\u001b[0m\u001b[0;36m5\u001b[0m\u001b[0;34m,\u001b[0m \u001b[0mframes\u001b[0m\u001b[0;34m=\u001b[0m\u001b[0;36m3\u001b[0m\u001b[0;34m)\u001b[0m\u001b[0;34m\u001b[0m\u001b[0;34m\u001b[0m\u001b[0m\n\u001b[0m",
            "\u001b[0;32m<ipython-input-290-e461a2ca891e>\u001b[0m in \u001b[0;36mlife_animation\u001b[0;34m(X, dpi, frames, interval, mode)\u001b[0m\n\u001b[1;32m      2\u001b[0m \u001b[0;34m\u001b[0m\u001b[0m\n\u001b[1;32m      3\u001b[0m     \u001b[0mX\u001b[0m \u001b[0;34m=\u001b[0m \u001b[0mG_prev\u001b[0m\u001b[0;34m\u001b[0m\u001b[0;34m\u001b[0m\u001b[0m\n\u001b[0;32m----> 4\u001b[0;31m     \u001b[0;32massert\u001b[0m \u001b[0mX\u001b[0m\u001b[0;34m.\u001b[0m\u001b[0mndim\u001b[0m \u001b[0;34m==\u001b[0m \u001b[0mG_prev\u001b[0m\u001b[0;34m\u001b[0m\u001b[0;34m\u001b[0m\u001b[0m\n\u001b[0m\u001b[1;32m      5\u001b[0m     \u001b[0mX\u001b[0m \u001b[0;34m=\u001b[0m \u001b[0mX\u001b[0m\u001b[0;34m.\u001b[0m\u001b[0mastype\u001b[0m\u001b[0;34m(\u001b[0m\u001b[0mbool\u001b[0m\u001b[0;34m)\u001b[0m\u001b[0;34m\u001b[0m\u001b[0;34m\u001b[0m\u001b[0m\n\u001b[1;32m      6\u001b[0m \u001b[0;34m\u001b[0m\u001b[0m\n",
            "\u001b[0;31mAttributeError\u001b[0m: 'function' object has no attribute 'ndim'"
          ]
        }
      ]
    }
  ]
}
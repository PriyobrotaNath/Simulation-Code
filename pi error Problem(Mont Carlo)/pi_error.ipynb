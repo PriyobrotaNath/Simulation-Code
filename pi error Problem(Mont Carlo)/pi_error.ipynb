{
  "nbformat": 4,
  "nbformat_minor": 0,
  "metadata": {
    "colab": {
      "name": "pi_error.ipynb",
      "provenance": []
    },
    "kernelspec": {
      "name": "python3",
      "display_name": "Python 3"
    }
  },
  "cells": [
    {
      "cell_type": "code",
      "metadata": {
        "id": "UVpS_jev-9UJ"
      },
      "source": [
        "import random\n",
        "import math\n",
        "import matplotlib.pyplot as plt"
      ],
      "execution_count": 149,
      "outputs": []
    },
    {
      "cell_type": "code",
      "metadata": {
        "id": "TyM4yidj_Apn"
      },
      "source": [
        "def run_experiment(n=100):\n",
        "  points=[]\n",
        "  r=10.2\n",
        "  for _ in range(n):\n",
        "    x=random.uniform(-1,r)\n",
        "    y=random.uniform(-1,r)\n",
        "  points.append([x,y])\n",
        "  hits_point=[(x,y) for (x,y) in points if math.sqrt(x**2 + y**2) <=r]\n",
        "  return 4* len(hits_point)/len(points)"
      ],
      "execution_count": 150,
      "outputs": []
    },
    {
      "cell_type": "code",
      "metadata": {
        "id": "QYvuI_sVInRi",
        "outputId": "62aa7bcf-9949-4b14-875f-3d064102cb6c",
        "colab": {
          "base_uri": "https://localhost:8080/"
        }
      },
      "source": [
        "run_experiment()"
      ],
      "execution_count": 152,
      "outputs": [
        {
          "output_type": "execute_result",
          "data": {
            "text/plain": [
              "4.0"
            ]
          },
          "metadata": {
            "tags": []
          },
          "execution_count": 152
        }
      ]
    },
    {
      "cell_type": "code",
      "metadata": {
        "id": "g833GnxvCqkq"
      },
      "source": [
        "results=[]\n",
        "avg_pi_values = []\n",
        "\n",
        "for _ in range(100):\n",
        "  results.append(run_experiment())\n",
        "  avg_pi = sum(results) / len (results)\n",
        "  avg_pi_values.append(avg_pi)"
      ],
      "execution_count": 153,
      "outputs": []
    },
    {
      "cell_type": "code",
      "metadata": {
        "id": "iNdnA15ADzz_",
        "outputId": "da106acd-b535-4c09-f680-10869a34a94b",
        "colab": {
          "base_uri": "https://localhost:8080/"
        }
      },
      "source": [
        "results\n",
        "\n"
      ],
      "execution_count": 164,
      "outputs": [
        {
          "output_type": "execute_result",
          "data": {
            "text/plain": [
              "[4.0,\n",
              " 0.0,\n",
              " 4.0,\n",
              " 4.0,\n",
              " 4.0,\n",
              " 4.0,\n",
              " 4.0,\n",
              " 4.0,\n",
              " 4.0,\n",
              " 4.0,\n",
              " 0.0,\n",
              " 4.0,\n",
              " 0.0,\n",
              " 4.0,\n",
              " 4.0,\n",
              " 0.0,\n",
              " 4.0,\n",
              " 0.0,\n",
              " 4.0,\n",
              " 0.0,\n",
              " 4.0,\n",
              " 4.0,\n",
              " 4.0,\n",
              " 4.0,\n",
              " 4.0,\n",
              " 4.0,\n",
              " 0.0,\n",
              " 4.0,\n",
              " 4.0,\n",
              " 4.0,\n",
              " 4.0,\n",
              " 4.0,\n",
              " 4.0,\n",
              " 4.0,\n",
              " 0.0,\n",
              " 0.0,\n",
              " 4.0,\n",
              " 4.0,\n",
              " 0.0,\n",
              " 0.0,\n",
              " 4.0,\n",
              " 4.0,\n",
              " 4.0,\n",
              " 4.0,\n",
              " 4.0,\n",
              " 4.0,\n",
              " 4.0,\n",
              " 0.0,\n",
              " 4.0,\n",
              " 4.0,\n",
              " 4.0,\n",
              " 4.0,\n",
              " 4.0,\n",
              " 4.0,\n",
              " 4.0,\n",
              " 0.0,\n",
              " 4.0,\n",
              " 4.0,\n",
              " 4.0,\n",
              " 4.0,\n",
              " 0.0,\n",
              " 4.0,\n",
              " 4.0,\n",
              " 4.0,\n",
              " 4.0,\n",
              " 0.0,\n",
              " 4.0,\n",
              " 4.0,\n",
              " 4.0,\n",
              " 0.0,\n",
              " 4.0,\n",
              " 0.0,\n",
              " 4.0,\n",
              " 0.0,\n",
              " 0.0,\n",
              " 0.0,\n",
              " 4.0,\n",
              " 4.0,\n",
              " 4.0,\n",
              " 4.0,\n",
              " 4.0,\n",
              " 4.0,\n",
              " 4.0,\n",
              " 0.0,\n",
              " 4.0,\n",
              " 0.0,\n",
              " 4.0,\n",
              " 4.0,\n",
              " 4.0,\n",
              " 4.0,\n",
              " 4.0,\n",
              " 0.0,\n",
              " 4.0,\n",
              " 4.0,\n",
              " 4.0,\n",
              " 4.0,\n",
              " 4.0,\n",
              " 4.0,\n",
              " 0.0,\n",
              " 4.0]"
            ]
          },
          "metadata": {
            "tags": []
          },
          "execution_count": 164
        }
      ]
    },
    {
      "cell_type": "code",
      "metadata": {
        "id": "sj65w_39EEfA",
        "outputId": "f13164b3-3881-41b1-fc0b-44f20e92615f",
        "colab": {
          "base_uri": "https://localhost:8080/"
        }
      },
      "source": [
        "avg_pi_values"
      ],
      "execution_count": 165,
      "outputs": [
        {
          "output_type": "execute_result",
          "data": {
            "text/plain": [
              "[4.0,\n",
              " 2.0,\n",
              " 2.6666666666666665,\n",
              " 3.0,\n",
              " 3.2,\n",
              " 3.3333333333333335,\n",
              " 3.4285714285714284,\n",
              " 3.5,\n",
              " 3.5555555555555554,\n",
              " 3.6,\n",
              " 3.272727272727273,\n",
              " 3.3333333333333335,\n",
              " 3.076923076923077,\n",
              " 3.142857142857143,\n",
              " 3.2,\n",
              " 3.0,\n",
              " 3.0588235294117645,\n",
              " 2.888888888888889,\n",
              " 2.9473684210526314,\n",
              " 2.8,\n",
              " 2.857142857142857,\n",
              " 2.909090909090909,\n",
              " 2.9565217391304346,\n",
              " 3.0,\n",
              " 3.04,\n",
              " 3.076923076923077,\n",
              " 2.962962962962963,\n",
              " 3.0,\n",
              " 3.0344827586206895,\n",
              " 3.066666666666667,\n",
              " 3.096774193548387,\n",
              " 3.125,\n",
              " 3.1515151515151514,\n",
              " 3.176470588235294,\n",
              " 3.085714285714286,\n",
              " 3.0,\n",
              " 3.027027027027027,\n",
              " 3.0526315789473686,\n",
              " 2.9743589743589745,\n",
              " 2.9,\n",
              " 2.926829268292683,\n",
              " 2.9523809523809526,\n",
              " 2.9767441860465116,\n",
              " 3.0,\n",
              " 3.022222222222222,\n",
              " 3.0434782608695654,\n",
              " 3.0638297872340425,\n",
              " 3.0,\n",
              " 3.020408163265306,\n",
              " 3.04,\n",
              " 3.0588235294117645,\n",
              " 3.076923076923077,\n",
              " 3.0943396226415096,\n",
              " 3.111111111111111,\n",
              " 3.1272727272727274,\n",
              " 3.0714285714285716,\n",
              " 3.087719298245614,\n",
              " 3.103448275862069,\n",
              " 3.1186440677966103,\n",
              " 3.1333333333333333,\n",
              " 3.081967213114754,\n",
              " 3.096774193548387,\n",
              " 3.111111111111111,\n",
              " 3.125,\n",
              " 3.1384615384615384,\n",
              " 3.090909090909091,\n",
              " 3.1044776119402986,\n",
              " 3.1176470588235294,\n",
              " 3.130434782608696,\n",
              " 3.085714285714286,\n",
              " 3.0985915492957745,\n",
              " 3.0555555555555554,\n",
              " 3.0684931506849313,\n",
              " 3.027027027027027,\n",
              " 2.986666666666667,\n",
              " 2.9473684210526314,\n",
              " 2.961038961038961,\n",
              " 2.9743589743589745,\n",
              " 2.9873417721518987,\n",
              " 3.0,\n",
              " 3.0123456790123457,\n",
              " 3.024390243902439,\n",
              " 3.036144578313253,\n",
              " 3.0,\n",
              " 3.011764705882353,\n",
              " 2.9767441860465116,\n",
              " 2.9885057471264367,\n",
              " 3.0,\n",
              " 3.0112359550561796,\n",
              " 3.022222222222222,\n",
              " 3.032967032967033,\n",
              " 3.0,\n",
              " 3.010752688172043,\n",
              " 3.021276595744681,\n",
              " 3.031578947368421,\n",
              " 3.0416666666666665,\n",
              " 3.051546391752577,\n",
              " 3.061224489795918,\n",
              " 3.0303030303030303,\n",
              " 3.04]"
            ]
          },
          "metadata": {
            "tags": []
          },
          "execution_count": 165
        }
      ]
    },
    {
      "cell_type": "code",
      "metadata": {
        "id": "_vz_qCLRF27y",
        "outputId": "5bd5b22b-2036-484c-d78b-4a489cde0373",
        "colab": {
          "base_uri": "https://localhost:8080/"
        }
      },
      "source": [
        "avg_pi_errors = [abs(math.pi-pi) for pi in avg_pi_values]\n",
        "avg_pi_errors"
      ],
      "execution_count": 169,
      "outputs": [
        {
          "output_type": "execute_result",
          "data": {
            "text/plain": [
              "[0.8584073464102069,\n",
              " 1.1415926535897931,\n",
              " 0.4749259869231266,\n",
              " 0.14159265358979312,\n",
              " 0.05840734641020706,\n",
              " 0.19174067974354037,\n",
              " 0.28697877498163527,\n",
              " 0.3584073464102069,\n",
              " 0.41396290196576224,\n",
              " 0.458407346410207,\n",
              " 0.1311346191374798,\n",
              " 0.19174067974354037,\n",
              " 0.06466957666671602,\n",
              " 0.0012644892673496777,\n",
              " 0.05840734641020706,\n",
              " 0.14159265358979312,\n",
              " 0.08276912417802862,\n",
              " 0.2527037647009043,\n",
              " 0.1942242325371617,\n",
              " 0.3415926535897933,\n",
              " 0.2844497964469359,\n",
              " 0.23250174449888394,\n",
              " 0.18507091445935853,\n",
              " 0.14159265358979312,\n",
              " 0.10159265358979308,\n",
              " 0.06466957666671602,\n",
              " 0.17862969062683032,\n",
              " 0.14159265358979312,\n",
              " 0.10710989496910361,\n",
              " 0.07492598692312624,\n",
              " 0.044818460041406105,\n",
              " 0.016592653589793116,\n",
              " 0.009922497925358265,\n",
              " 0.03487793464550082,\n",
              " 0.05587836787550726,\n",
              " 0.14159265358979312,\n",
              " 0.11456562656276592,\n",
              " 0.08896107464242453,\n",
              " 0.16723367923081867,\n",
              " 0.2415926535897932,\n",
              " 0.21476338529711025,\n",
              " 0.18921170120884057,\n",
              " 0.16484846754328153,\n",
              " 0.14159265358979312,\n",
              " 0.11937043136757097,\n",
              " 0.0981143927202277,\n",
              " 0.07776286635575058,\n",
              " 0.14159265358979312,\n",
              " 0.12118449032448719,\n",
              " 0.10159265358979308,\n",
              " 0.08276912417802862,\n",
              " 0.06466957666671602,\n",
              " 0.04725303094828348,\n",
              " 0.030481542478681956,\n",
              " 0.01431992631706569,\n",
              " 0.0701640821612215,\n",
              " 0.05387335534417925,\n",
              " 0.038144377727724166,\n",
              " 0.02294858579318282,\n",
              " 0.008259320256459812,\n",
              " 0.05962544047503915,\n",
              " 0.044818460041406105,\n",
              " 0.030481542478681956,\n",
              " 0.016592653589793116,\n",
              " 0.0031311151282547023,\n",
              " 0.05068356268070229,\n",
              " 0.03711504164949453,\n",
              " 0.023945594766263678,\n",
              " 0.011157870981097329,\n",
              " 0.05587836787550726,\n",
              " 0.0430011042940186,\n",
              " 0.08603709803423776,\n",
              " 0.07309950290486178,\n",
              " 0.11456562656276592,\n",
              " 0.1549259869231263,\n",
              " 0.1942242325371617,\n",
              " 0.18055369255083198,\n",
              " 0.16723367923081867,\n",
              " 0.15425088143789445,\n",
              " 0.14159265358979312,\n",
              " 0.12924697457744738,\n",
              " 0.11720240968735407,\n",
              " 0.1054480752765401,\n",
              " 0.14159265358979312,\n",
              " 0.12982794770744022,\n",
              " 0.16484846754328153,\n",
              " 0.15308690646335643,\n",
              " 0.14159265358979312,\n",
              " 0.13035669853361354,\n",
              " 0.11937043136757097,\n",
              " 0.10862562062276027,\n",
              " 0.14159265358979312,\n",
              " 0.13083996541775011,\n",
              " 0.12031605784511212,\n",
              " 0.11001370622137197,\n",
              " 0.0999259869231266,\n",
              " 0.09004626183721598,\n",
              " 0.0803681637938749,\n",
              " 0.11128962328676284,\n",
              " 0.10159265358979308]"
            ]
          },
          "metadata": {
            "tags": []
          },
          "execution_count": 169
        }
      ]
    },
    {
      "cell_type": "code",
      "metadata": {
        "id": "ztTAz5QBGuFG",
        "outputId": "10dffb47-07ec-42b0-ffff-c64d1437cf10",
        "colab": {
          "base_uri": "https://localhost:8080/",
          "height": 282
        }
      },
      "source": [
        "plt.plot(avg_pi_errors)"
      ],
      "execution_count": 167,
      "outputs": [
        {
          "output_type": "execute_result",
          "data": {
            "text/plain": [
              "[<matplotlib.lines.Line2D at 0x7f264a614438>]"
            ]
          },
          "metadata": {
            "tags": []
          },
          "execution_count": 167
        },
        {
          "output_type": "display_data",
          "data": {
            "image/png": "[encoded data removed]",
            "text/plain": [
              "<Figure size 432x288 with 1 Axes>"
            ]
          },
          "metadata": {
            "tags": [],
            "needs_background": "light"
          }
        }
      ]
    },
    {
      "cell_type": "code",
      "metadata": {
        "id": "5vHgzE-i__OC"
      },
      "source": [
        " "
      ],
      "execution_count": 159,
      "outputs": []
    }
  ]
}
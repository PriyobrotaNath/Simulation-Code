{
  "nbformat": 4,
  "nbformat_minor": 0,
  "metadata": {
    "colab": {
      "name": "pi value.ipynb",
      "provenance": []
    },
    "kernelspec": {
      "name": "python3",
      "display_name": "Python 3"
    }
  },
  "cells": [
    {
      "cell_type": "code",
      "metadata": {
        "id": "KFGWvGYCn3Ld"
      },
      "source": [
        "import random \n",
        "import math\n",
        "import matplotlib.pyplot as plt\n"
      ],
      "execution_count": 95,
      "outputs": []
    },
    {
      "cell_type": "code",
      "metadata": {
        "id": "uhlC5ZPjoyed"
      },
      "source": [
        "\n",
        "def dist_cal (x1, y1 ,x2, y2):\n",
        "    distance = math.sqrt((x1 - x2)**2 + (y1 -y2)**2)    \n",
        "    return distance    "
      ],
      "execution_count": 96,
      "outputs": []
    },
    {
      "cell_type": "code",
      "metadata": {
        "id": "q_DyRsr9ozI1",
        "outputId": "64fb28a6-c285-4cda-b3d9-ebac8d10b84e",
        "colab": {
          "base_uri": "https://localhost:8080/",
          "height": 513
        }
      },
      "source": [
        "if __name__ == '__main__':\n",
        "  for trial_no in range(10,50,10):  \n",
        "    hits =0\n",
        "    n =int(input(\"\\nEnter the number to generate points: \"))\n",
        "    trial_no=n\n",
        "    r=10.2\n",
        "    b=r\n",
        "    h=r  \n",
        "    for x in range(trial_no):\n",
        "\n",
        "        x = random.uniform(0,r)\n",
        "        y = random.uniform(0,r)\n",
        "    for i in points:\n",
        "      if distance<= r:\n",
        "        hits +=1\n",
        "        plt.plot(x,y, 'go') \n",
        "        print(hits)\n",
        "      else: \n",
        "        plt.plot(x,y, 'ro')\n",
        "\n",
        "    print(\"Total hits\",hits)   \n",
        "          \n",
        "    pi =float((((hits/trial_no)*(b*h)) *4) /(r**2)  ) \n",
        "    print('%0.5f'% pi)    \n",
        "plt.show()  "
      ],
      "execution_count": 97,
      "outputs": [
        {
          "output_type": "stream",
          "text": [
            "\n",
            "Enter the number to generate points: 10\n",
            "1\n",
            "2\n",
            "3\n",
            "4\n",
            "5\n",
            "6\n",
            "7\n",
            "8\n",
            "9\n",
            "10\n",
            "Total hits 10\n",
            "4.00000\n"
          ],
          "name": "stdout"
        },
        {
          "output_type": "display_data",
          "data": {
            "image/png": "[encoded data removed]",
            "text/plain": [
              "<Figure size 432x288 with 1 Axes>"
            ]
          },
          "metadata": {
            "tags": [],
            "needs_background": "light"
          }
        }
      ]
    }
  ]
}
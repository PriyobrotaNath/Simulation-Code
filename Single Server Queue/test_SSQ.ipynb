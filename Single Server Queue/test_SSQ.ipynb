{
  "nbformat": 4,
  "nbformat_minor": 0,
  "metadata": {
    "colab": {
      "name": "test SSQ.ipynb",
      "provenance": [],
      "collapsed_sections": []
    },
    "kernelspec": {
      "name": "python3",
      "display_name": "Python 3"
    }
  },
  "cells": [
    {
      "cell_type": "code",
      "metadata": {
        "id": "KeYrBpBeUYfu"
      },
      "source": [
        "import numpy as np\r\n",
        "import pandas\r\n",
        "import random\r\n",
        "import operator\r\n",
        "import sys\r\n",
        "import matplotlib.pyplot as plt"
      ],
      "execution_count": 1,
      "outputs": []
    },
    {
      "cell_type": "code",
      "metadata": {
        "id": "-0ExoF1mUz4q"
      },
      "source": [
        "clock=0\r\n",
        "serverStatus =0\r\n",
        "totalDelay=0\r\n",
        "areaUnder=0\r\n",
        "itnerArrivalTime=[]\r\n",
        "arrivalTime=[]\r\n",
        "serviceTime=[]\r\n",
        "depertureTime=[]\r\n",
        "timeOfArrival=[]\r\n",
        "Arrival=0\r\n",
        "#Deperture=0\r\n",
        "\r\n"
      ],
      "execution_count": 2,
      "outputs": []
    },
    {
      "cell_type": "code",
      "metadata": {
        "colab": {
          "base_uri": "https://localhost:8080/"
        },
        "id": "iumSK_N7WUg8",
        "outputId": "1fbe6e41-c28c-4403-c016-b977331b54c6"
      },
      "source": [
        "n=6\r\n",
        "pa=0.2\r\n",
        "ps=0.3\r\n",
        "print(n,pa,ps)\r\n"
      ],
      "execution_count": 3,
      "outputs": [
        {
          "output_type": "stream",
          "text": [
            "6 0.2 0.3\n"
          ],
          "name": "stdout"
        }
      ]
    },
    {
      "cell_type": "code",
      "metadata": {
        "colab": {
          "base_uri": "https://localhost:8080/"
        },
        "id": "PgfSwicmX0sT",
        "outputId": "95ed85fa-8253-4625-f9e2-f36ffa6300f2"
      },
      "source": [
        "np.random.seed(30)\r\n",
        "itnerArrivalTime=np.random.geometric(pa,n)\r\n",
        "print(itnerArrivalTime)\r\n"
      ],
      "execution_count": 4,
      "outputs": [
        {
          "output_type": "stream",
          "text": [
            "[ 5  3  5  1 15  2]\n"
          ],
          "name": "stdout"
        }
      ]
    },
    {
      "cell_type": "code",
      "metadata": {
        "colab": {
          "base_uri": "https://localhost:8080/",
          "height": 35
        },
        "id": "mz_6ukMpd5fy",
        "outputId": "59474a45-d1da-49e0-86c3-89778fc554dd"
      },
      "source": [
        "'''\r\n",
        "np.random.seed(10)\r\n",
        "serviceTime=np.random.geometric(ps,n)\r\n",
        "print(serviceTime)\r\n",
        "'''"
      ],
      "execution_count": 5,
      "outputs": [
        {
          "output_type": "execute_result",
          "data": {
            "application/vnd.google.colaboratory.intrinsic+json": {
              "type": "string"
            },
            "text/plain": [
              "'\\nnp.random.seed(10)\\nserviceTime=np.random.geometric(ps,n)\\nprint(serviceTime)\\n'"
            ]
          },
          "metadata": {
            "tags": []
          },
          "execution_count": 5
        }
      ]
    },
    {
      "cell_type": "code",
      "metadata": {
        "colab": {
          "base_uri": "https://localhost:8080/"
        },
        "id": "-xi9H0p1eO0L",
        "outputId": "e3ba403e-f9f2-4d4c-ac0a-7765c2ffa57a"
      },
      "source": [
        "for i in range(0,n):\r\n",
        "  if (i<(n-1)):\r\n",
        "    if (i==0):\r\n",
        "      arrivalTime1= itnerArrivalTime[i]\r\n",
        "      arrivalTime.append(arrivalTime1)\r\n",
        "    if (i<(n-1)):\r\n",
        "      arrivalTime1= itnerArrivalTime[i]+itnerArrivalTime[i+1]\r\n",
        "      arrivalTime.append(arrivalTime1)\r\n",
        "print(arrivalTime)\r\n"
      ],
      "execution_count": 6,
      "outputs": [
        {
          "output_type": "stream",
          "text": [
            "[5, 8, 8, 6, 16, 17]\n"
          ],
          "name": "stdout"
        }
      ]
    },
    {
      "cell_type": "code",
      "metadata": {
        "colab": {
          "base_uri": "https://localhost:8080/"
        },
        "id": "e0SpUmYWBqzb",
        "outputId": "bb838965-f45b-4415-f193-5f2faadc07c3"
      },
      "source": [
        "l=len(arrivalTime)\r\n",
        "l"
      ],
      "execution_count": 7,
      "outputs": [
        {
          "output_type": "execute_result",
          "data": {
            "text/plain": [
              "6"
            ]
          },
          "metadata": {
            "tags": []
          },
          "execution_count": 7
        }
      ]
    },
    {
      "cell_type": "code",
      "metadata": {
        "colab": {
          "base_uri": "https://localhost:8080/"
        },
        "id": "94ZpO_j67FRW",
        "outputId": "bd9662c6-7e2b-4151-e0ba-a4df7ad2a4b7"
      },
      "source": [
        "for k in range(n):\r\n",
        "  Arrival=(arrivalTime[k])\r\n",
        "  k+=1\r\n",
        "  print(Arrival)"
      ],
      "execution_count": 8,
      "outputs": [
        {
          "output_type": "stream",
          "text": [
            "5\n",
            "8\n",
            "8\n",
            "6\n",
            "16\n",
            "17\n"
          ],
          "name": "stdout"
        }
      ]
    },
    {
      "cell_type": "code",
      "metadata": {
        "colab": {
          "base_uri": "https://localhost:8080/"
        },
        "id": "IhOvIqtq7SbC",
        "outputId": "9e5362c5-a954-4c16-b5e4-1793bca3a1eb"
      },
      "source": [
        "Deperture=np.inf\r\n",
        "Deperture"
      ],
      "execution_count": 9,
      "outputs": [
        {
          "output_type": "execute_result",
          "data": {
            "text/plain": [
              "inf"
            ]
          },
          "metadata": {
            "tags": []
          },
          "execution_count": 9
        }
      ]
    },
    {
      "cell_type": "code",
      "metadata": {
        "id": "v1J91p8_HHVP"
      },
      "source": [
        "    serverStatus =0\r\n",
        "    serverStatusList=[]\r\n",
        "    numberOfQueue=0\r\n",
        "    numberOfDelay=0\r\n",
        "    totalDelay=0\r\n",
        "    areaUnder=0\r\n",
        "    numberOfQueueList=[]\r\n",
        "    clockList=[]\r\n",
        "    Qt=0\r\n",
        "    QtList=[]\r\n",
        "    Bt=0\r\n",
        "    BtList=[]"
      ],
      "execution_count": 10,
      "outputs": []
    },
    {
      "cell_type": "markdown",
      "metadata": {
        "id": "0EtzR8rbqaRd"
      },
      "source": [
        "#**FIFO**"
      ]
    },
    {
      "cell_type": "code",
      "metadata": {
        "colab": {
          "base_uri": "https://localhost:8080/"
        },
        "id": "TymWcLNVn30a",
        "outputId": "6f31f608-e862-455c-be9b-4b90d83d95cf"
      },
      "source": [
        "for j in range(n):\r\n",
        "  print(\"iteration:\",j)\r\n",
        "  if (j==0):\r\n",
        "    clock=0\r\n",
        "    clockList.append(clock)\r\n",
        "    Arrival=(arrivalTime[j])\r\n",
        "    #Arrival.append(Arrival1)\r\n",
        "    Deperture=np.inf\r\n",
        "    serverStatus =0\r\n",
        "    serverStatusList.append(serverStatus)\r\n",
        "    numberOfQueue=0\r\n",
        "    numberOfQueueList.append(numberOfQueue)\r\n",
        "    numberOfDelay=0\r\n",
        "    totalDelay=0\r\n",
        "    areaUnder=0\r\n",
        "    #Qt=Qt+((clockList[-1]-clockList[-2])*numberOfQueueList[-2])\r\n",
        "    #QtList.append(Qt)\r\n",
        "\r\n",
        "  \r\n",
        "    \r\n",
        "    print(\"Clock:\",clock,\"  Event:\",Arrival,\",\",Deperture,\"  Server Status:\",serverStatus,\"   Number Of Queue\",numberOfQueue,\"  Time Of Arrival\",timeOfArrival,\" Number Of Delay\",numberOfDelay,\" Total Delay\",totalDelay,\"  areaUnder\",areaUnder)\r\n",
        "    print(\"\\n \\n\") \r\n",
        "  if(j>0):\r\n",
        "    if (Arrival<Deperture):\r\n",
        "      clock=Arrival\r\n",
        "      clockList.append(clock)\r\n",
        "      print(\"Arrival:\",clock)\r\n",
        "      serverStatusList.append(serverStatus)\r\n",
        "      Arrival=(arrivalTime[j])\r\n",
        "      print(\"NextArrival\",Arrival)\r\n",
        "      if (serverStatus ==0):\r\n",
        "        totalDelay=0\r\n",
        "        numberOfDelay+=1\r\n",
        "        serverStatus+=1\r\n",
        "        serverStatusList.append(serverStatus)\r\n",
        "        numberOfQueueList.append(numberOfQueue)\r\n",
        "        m=np.random.geometric(ps,None)\r\n",
        "        print(\"Random Service :\",m)\r\n",
        "        Deperture=clock+(m)\r\n",
        "        Qt=Qt+((clockList[-1]-clockList[-2])*numberOfQueueList[-2])\r\n",
        "        QtList.append(Qt)\r\n",
        "        Bt = Bt + ((clockList[-1]-clockList[-2]) *serverStatusList[-2])\r\n",
        "        BtList.append(Bt)\r\n",
        "        print(\"Clock:\",clock,\"  Event:\",Arrival,\",\",Deperture,\"  Server Status:\",serverStatus,\"   Number Of Queue\",numberOfQueue,\"  Time Of Arrival\",timeOfArrival,\" Number Of Delay\",numberOfDelay,\" Total Delay\",totalDelay,\"  areaUnder\",areaUnder)\r\n",
        "      else:\r\n",
        "        numberOfQueue+=1\r\n",
        "        numberOfQueueList.append(numberOfQueue)\r\n",
        "        serverStatusList.append(serverStatus)\r\n",
        "        timeOfArrival.append(clock)\r\n",
        "        Qt=Qt+((clockList[-1]-clockList[-2])*numberOfQueueList[-2])\r\n",
        "        QtList.append(Qt)\r\n",
        "        Bt = Bt + ((clockList[-1]-clockList[-2]) *serverStatusList[-2])\r\n",
        "        BtList.append(Bt)\r\n",
        "        print(\"Clock:\",clock,\"  Event:\",Arrival,\",\",Deperture,\"  Server Status:\",serverStatus,\"   Number Of Queue\",numberOfQueue,\"  Time Of Arrival\",timeOfArrival,\" Number Of Delay\",numberOfDelay,\" Total Delay\",totalDelay,\"  areaUnder\",areaUnder)\r\n",
        "        \r\n",
        "\r\n",
        "      \r\n",
        "    else:\r\n",
        "      clock=Deperture\r\n",
        "      clockList.append(clock)\r\n",
        "      print(\"Deperture:\",Deperture)\r\n",
        "      if (numberOfQueue != 0):\r\n",
        "        numberOfQueue -=1\r\n",
        "        numberOfQueueList.append(numberOfQueue)\r\n",
        "        b=timeOfArrival.pop(0)\r\n",
        "        print(b)\r\n",
        "        totalDelay=totalDelay+(clock - b)\r\n",
        "        numberOfDelay+=1\r\n",
        "        p=np.random.geometric(ps,None)\r\n",
        "        print(\"Random Service Time :\",p)\r\n",
        "        Deperture=clock+(p)\r\n",
        "        Qt=Qt+((clockList[-1]-clockList[-2])*numberOfQueueList[-2])\r\n",
        "        QtList.append(Qt)\r\n",
        "        serverStatusList.append(serverStatus)\r\n",
        "        Bt = Bt + ((clockList[-1]-clockList[-2]) *serverStatusList[-2])\r\n",
        "        BtList.append(Bt)\r\n",
        "        print(\"Clock:\",clock,\"  Event:\",Arrival,\",\",Deperture,\"  Server Status:\",serverStatus,\"   Number Of Queue\",numberOfQueue,\" Time Of Arrival\",timeOfArrival,\" Number Of Delay\",numberOfDelay,\" Total Delay\",totalDelay,\"  areaUnder\",areaUnder)\r\n",
        "\r\n",
        "      else:\r\n",
        "        serverStatus=0\r\n",
        "        serverStatusList.append(serverStatus)\r\n",
        "        numberOfQueueList.append(numberOfQueue)\r\n",
        "        Deperture=np.inf\r\n",
        "        Qt=Qt+((clockList[-1]-clockList[-2])*numberOfQueueList[-2])\r\n",
        "        QtList.append(Qt)\r\n",
        "        Bt = Bt + ((clockList[-1]-clockList[-2]) *serverStatusList[-2])\r\n",
        "        BtList.append(Bt)\r\n",
        "        print(\"Clock:\",clock,\"  Event:\",Arrival,\",\",Deperture,\"  Server Status:\",serverStatus,\"   Number Of Queue\",numberOfQueue,\"  Time Of Arrival\",timeOfArrival,\" Number Of Delay\",numberOfDelay,\" Total Delay\",totalDelay,\"  areaUnder\",areaUnder)\r\n",
        "\r\n",
        "         \r\n",
        "\r\n",
        "\r\n",
        "\r\n",
        "\r\n",
        "  print(\"\\n \\n\")\r\n",
        "avg_delay = totalDelay/n\r\n",
        "\r\n",
        "print(\"Average Delay\",avg_delay)\r\n",
        "# for are\r\n",
        "if (clockList[-1] ) == 0 :\r\n",
        "    print(\"E(Q) : No customer in queue to wait for service \")\r\n",
        "else:\r\n",
        "  Eq =  QtList[-1] / clockList[-1]\r\n",
        "  print(\"Expected number of customer in queue E(Q): \",Eq)\r\n",
        " #\r\n",
        "if (clockList[-1] ) == 0 :\r\n",
        "    print(\"E(U) : Server was idle \")\r\n",
        "else:\r\n",
        "  result = ((BtList[-1]  / clockList[-1] ))\r\n",
        "  print(\"Expected utilization of server E(U): \",result)\r\n",
        "  \r\n",
        "\r\n"
      ],
      "execution_count": 11,
      "outputs": [
        {
          "output_type": "stream",
          "text": [
            "iteration: 0\n",
            "Clock: 0   Event: 5 , inf   Server Status: 0    Number Of Queue 0   Time Of Arrival []  Number Of Delay 0  Total Delay 0   areaUnder 0\n",
            "\n",
            " \n",
            "\n",
            "\n",
            " \n",
            "\n",
            "iteration: 1\n",
            "Arrival: 5\n",
            "NextArrival 8\n",
            "Random Service : 14\n",
            "Clock: 5   Event: 8 , 19   Server Status: 1    Number Of Queue 0   Time Of Arrival []  Number Of Delay 1  Total Delay 0   areaUnder 0\n",
            "\n",
            " \n",
            "\n",
            "iteration: 2\n",
            "Arrival: 8\n",
            "NextArrival 8\n",
            "Clock: 8   Event: 8 , 19   Server Status: 1    Number Of Queue 1   Time Of Arrival [8]  Number Of Delay 1  Total Delay 0   areaUnder 0\n",
            "\n",
            " \n",
            "\n",
            "iteration: 3\n",
            "Arrival: 8\n",
            "NextArrival 6\n",
            "Clock: 8   Event: 6 , 19   Server Status: 1    Number Of Queue 2   Time Of Arrival [8, 8]  Number Of Delay 1  Total Delay 0   areaUnder 0\n",
            "\n",
            " \n",
            "\n",
            "iteration: 4\n",
            "Arrival: 6\n",
            "NextArrival 16\n",
            "Clock: 6   Event: 16 , 19   Server Status: 1    Number Of Queue 3   Time Of Arrival [8, 8, 6]  Number Of Delay 1  Total Delay 0   areaUnder 0\n",
            "\n",
            " \n",
            "\n",
            "iteration: 5\n",
            "Arrival: 16\n",
            "NextArrival 17\n",
            "Clock: 16   Event: 17 , 19   Server Status: 1    Number Of Queue 4   Time Of Arrival [8, 8, 6, 16]  Number Of Delay 1  Total Delay 0   areaUnder 0\n",
            "\n",
            " \n",
            "\n",
            "Average Delay 0.0\n",
            "Expected number of customer in queue E(Q):  1.625\n",
            "Expected utilization of server E(U):  0.6875\n"
          ],
          "name": "stdout"
        }
      ]
    },
    {
      "cell_type": "code",
      "metadata": {
        "colab": {
          "base_uri": "https://localhost:8080/",
          "height": 1000
        },
        "id": "SA7gzD4HhF1L",
        "outputId": "d50e0b02-187a-40dd-8455-5451d48b33e6"
      },
      "source": [
        "N=[5,10,15,20,25,30,35,40]\r\n",
        "FIFO_Ed = [0,0,0.7333333333333333,0,0.76,2.1142857142857143,2.1142857142857143,0.475]\r\n",
        "Eq= [0.0,0.20833333333333334,2.090909090909091,5.538461538461538,-5.285714285714286,-10.25,4.285714285714286,-8.0]\r\n",
        "Eu=[0.0,0.5,0.36363636363636365,0.5384615384615384, -1.4285714285714286,-0.25,0.2857142857142857,-1.4285714285714286]\r\n",
        "\r\n",
        "#E(D) vs N graph\r\n",
        "plt.plot(N,FIFO_Ed)\r\n",
        "# naming the x-axis \r\n",
        "print()\r\n",
        "plt.xlabel('Number of customer') \r\n",
        "# naming the y-axis \r\n",
        "plt.ylabel('Average E(D)') \r\n",
        "# plot title \r\n",
        "print()\r\n",
        "plt.title('E(D) vs N graph') \r\n",
        "# function to show the plot \r\n",
        "plt.show() \r\n",
        "print()\r\n",
        "print()\r\n",
        "\r\n",
        "#E(Q) vs N graph\r\n",
        "plt.plot(N,Eq)\r\n",
        "# naming the x-axis \r\n",
        "print()\r\n",
        "plt.xlabel('Number of customer') \r\n",
        "# naming the y-axis \r\n",
        "plt.ylabel('Everage E(Q)') \r\n",
        "# plot title \r\n",
        "print()\r\n",
        "plt.title('E(Q) vs N graph') \r\n",
        "# function to show the plot \r\n",
        "plt.show() \r\n",
        "print()\r\n",
        "print()\r\n",
        "\r\n",
        "\r\n",
        "#E(U) vs N graph\r\n",
        "plt.plot(N,Eu)# naming the x-axis \r\n",
        "print()\r\n",
        "plt.xlabel('Number of customer') \r\n",
        "# naming the y-axis \r\n",
        "plt.ylabel('Everage E(U)') \r\n",
        "# plot title \r\n",
        "print()\r\n",
        "plt.title('E(U) vs N graph') \r\n",
        "# function to show the plot \r\n",
        "plt.show() "
      ],
      "execution_count": 12,
      "outputs": [
        {
          "output_type": "stream",
          "text": [
            "\n",
            "\n"
          ],
          "name": "stdout"
        },
        {
          "output_type": "display_data",
          "data": {
            "image/png": "[encoded data removed]",
            "text/plain": [
              "<Figure size 432x288 with 1 Axes>"
            ]
          },
          "metadata": {
            "tags": [],
            "needs_background": "light"
          }
        },
        {
          "output_type": "stream",
          "text": [
            "\n",
            "\n",
            "\n",
            "\n"
          ],
          "name": "stdout"
        },
        {
          "output_type": "display_data",
          "data": {
            "image/png": "[encoded data removed]",
            "text/plain": [
              "<Figure size 432x288 with 1 Axes>"
            ]
          },
          "metadata": {
            "tags": [],
            "needs_background": "light"
          }
        },
        {
          "output_type": "stream",
          "text": [
            "\n",
            "\n",
            "\n",
            "\n"
          ],
          "name": "stdout"
        },
        {
          "output_type": "display_data",
          "data": {
            "image/png": "[encoded data removed]",
            "text/plain": [
              "<Figure size 432x288 with 1 Axes>"
            ]
          },
          "metadata": {
            "tags": [],
            "needs_background": "light"
          }
        }
      ]
    },
    {
      "cell_type": "markdown",
      "metadata": {
        "id": "ug4eNdG3qkWF"
      },
      "source": [
        "#**LIFO**"
      ]
    },
    {
      "cell_type": "code",
      "metadata": {
        "id": "rY6Rww5Q1_dF"
      },
      "source": [
        "\r\n",
        "clockLifo=0\r\n",
        "clockListLifo =[]\r\n",
        "serverStatusLifo=0\r\n",
        "serverStatusListLifo =[]\r\n",
        "numberOfQueueLifo=0\r\n",
        "numberOfQueueListLifo =[]\r\n",
        "timeOfArrivalLifo =[]\r\n",
        "numberOfDelayLifo=0\r\n",
        "totalDelayLifo=0\r\n",
        "ArrivalLifo=0\r\n",
        "QtLifo=0\r\n",
        "QtListLifo=[]\r\n",
        "BtLifo=0\r\n",
        "BtListLifo =[]"
      ],
      "execution_count": 13,
      "outputs": []
    },
    {
      "cell_type": "code",
      "metadata": {
        "colab": {
          "base_uri": "https://localhost:8080/"
        },
        "id": "9n0a1DwaYbKA",
        "outputId": "c391bc89-75fd-4c9a-d9eb-707496e7126c"
      },
      "source": [
        "for j in range(n):\r\n",
        "  print(\"iteration\",j)\r\n",
        "  if (j==0):\r\n",
        "    clockLifo=0\r\n",
        "    clockListLifo.append(clockLifo)\r\n",
        "    ArrivalLifo=(arrivalTime[j])\r\n",
        "    \r\n",
        "    DepertureLifo=np.inf\r\n",
        "    serverStatusLifo =0\r\n",
        "    serverStatusListLifo.append(serverStatusLifo)\r\n",
        "    numberOfQueueLifo=0\r\n",
        "    numberOfQueueListLifo.append(numberOfQueueLifo)\r\n",
        "    numberOfDelayLifo=0\r\n",
        "    totalDelayLifo=0\r\n",
        "    #Qt=Qt+((clockList[-1]-clockList[-2])*numberOfQueueList[-2])\r\n",
        "    #QtList.append(Qt)\r\n",
        "\r\n",
        "  \r\n",
        "    \r\n",
        "    print(\"Clock:\",clockLifo,\"  Event:\",ArrivalLifo,\",\",DepertureLifo,\"  Server Status:\",serverStatusLifo,\"   Number Of Queue\",numberOfQueueLifo,\"  Time Of Arrival\",timeOfArrivalLifo,\" Number Of Delay\",numberOfDelayLifo,\" Total Delay\",totalDelayLifo)\r\n",
        "    print(\"\\n \\n\") \r\n",
        "  if(j>0):\r\n",
        "    if (ArrivalLifo<DepertureLifo):\r\n",
        "      clockLifo=ArrivalLifo\r\n",
        "      clockListLifo.append(clockLifo)\r\n",
        "      print(\"Arrival:\",clockLifo)\r\n",
        "      serverStatusListLifo.append(serverStatusLifo)\r\n",
        "      ArrivalLifo=(arrivalTime[j])\r\n",
        "      print(\"NextArrival\",Arrival)\r\n",
        "      if (serverStatusLifo ==0):\r\n",
        "        totalDelayLifo=0\r\n",
        "        numberOfDelayLifo +=1\r\n",
        "        serverStatusLifo +=1\r\n",
        "        serverStatusListLifo.append(serverStatusLifo)\r\n",
        "        numberOfQueueListLifo.append(numberOfQueueLifo)\r\n",
        "        mLifo=np.random.geometric(ps,None)\r\n",
        "        print(\"Random Service :\",mLifo)\r\n",
        "        DepertureLifo=clockLifo+(mLifo)\r\n",
        "        QtLifo=QtLifo+((clockListLifo[-1]-clockListLifo[-2])*numberOfQueueListLifo[-2])\r\n",
        "        QtListLifo.append(QtLifo)\r\n",
        "        BtLifo = BtLifo + ((clockListLifo[-1]-clockListLifo[-2]) *serverStatusListLifo[-2])\r\n",
        "        BtListLifo.append(BtLifo)\r\n",
        "        print(\"Clock:\",clockLifo,\"  Event:\",ArrivalLifo,\",\",DepertureLifo,\"  Server Status:\",serverStatusLifo,\"   Number Of Queue\",numberOfQueueLifo,\"  Time Of Arrival\",timeOfArrivalLifo,\" Number Of Delay\",numberOfDelayLifo,\" Total Delay\",totalDelayLifo)\r\n",
        "      else:\r\n",
        "        numberOfQueueLifo +=1\r\n",
        "        numberOfQueueListLifo.append(numberOfQueueLifo)\r\n",
        "        serverStatusListLifo.append(serverStatusLifo)\r\n",
        "        timeOfArrivalLifo.append(clockLifo)\r\n",
        "        QtLifo=QtLifo+((clockListLifo[-1]-clockListLifo[-2])*numberOfQueueListLifo[-2])\r\n",
        "        QtListLifo.append(QtLifo)\r\n",
        "        BtLifo = BtLifo + ((clockListLifo[-1]-clockListLifo[-2]) *serverStatusListLifo[-2])\r\n",
        "        BtListLifo.append(BtLifo)\r\n",
        "        print(\"Clock:\",clockLifo,\"  Event:\",ArrivalLifo,\",\",DepertureLifo,\"  Server Status:\",serverStatusLifo,\"   Number Of Queue\",numberOfQueueLifo,\"  Time Of Arrival\",timeOfArrivalLifo,\" Number Of Delay\",numberOfDelayLifo,\" Total Delay\",totalDelayLifo)\r\n",
        "\r\n",
        "      \r\n",
        "    else:\r\n",
        "      clockLifo =DepertureLifo\r\n",
        "      clockListLifo.append(clockLifo)\r\n",
        "      print(\"Deperture:\",DepertureLifo)\r\n",
        "      if (numberOfQueueLifo != 0):\r\n",
        "        numberOfQueueLifo -=1\r\n",
        "        numberOfQueueListLifo.append(numberOfQueueLifo)\r\n",
        "        bLifo=timeOfArrivalLifo.pop(-1)\r\n",
        "        print(bLifo)\r\n",
        "        totalDelayLifo=totalDelayLifo+(clockLifo - bLifo)\r\n",
        "        numberOfDelayLifo +=1\r\n",
        "        pLifo=np.random.geometric(ps,None)\r\n",
        "        print(\"Random Service Time :\",pLifo)\r\n",
        "        DepertureLifo=clockLifo+(pLifo)\r\n",
        "        QtLifo=QtLifo+((clockListLifo[-1]-clockListLifo[-2])*numberOfQueueListLifo[-2])\r\n",
        "        QtListLifo.append(QtLifo)\r\n",
        "        serverStatusListLifo.append(serverStatusLifo)\r\n",
        "        BtLifo = BtLifo + ((clockListLifo[-1]-clockListLifo[-2]) *serverStatusListLifo[-2])\r\n",
        "        BtListLifo.append(BtLifo)\r\n",
        "        print(\"Clock:\",clockLifo,\"  Event:\",ArrivalLifo,\",\",DepertureLifo,\"  Server Status:\",serverStatusLifo,\"   Number Of Queue\",numberOfQueueLifo,\"  Time Of Arrival\",timeOfArrivalLifo,\" Number Of Delay\",numberOfDelayLifo,\" Total Delay\",totalDelayLifo)\r\n",
        "      else:\r\n",
        "        serverStatusLifo=0\r\n",
        "        serverStatusListLifo.append(serverStatusLifo)\r\n",
        "        numberOfQueueListLifo.append(numberOfQueueLifo)\r\n",
        "        DepertureLifo=np.inf\r\n",
        "        QtLifo=QtLifo+((clockListLifo[-1]-clockListLifo[-2])*numberOfQueueListLifo[-2])\r\n",
        "        QtListLifo.append(QtLifo)\r\n",
        "        BtLifo = BtLifo + ((clockListLifo[-1]-clockListLifo[-2]) *serverStatusListLifo[-2])\r\n",
        "        BtListLifo.append(BtLifo)\r\n",
        "        print(\"Clock:\",clockLifo,\"  Event:\",ArrivalLifo,\",\",DepertureLifo,\"  Server Status:\",serverStatusLifo,\"   Number Of Queue\",numberOfQueueLifo,\"  Time Of Arrival\",timeOfArrivalLifo,\" Number Of Delay\",numberOfDelayLifo,\" Total Delay\",totalDelayLifo)\r\n",
        "         \r\n",
        "\r\n",
        "\r\n",
        "\r\n",
        "\r\n",
        "  print(\"\\n \\n\")\r\n",
        "avg_delayLifo = totalDelayLifo/n\r\n",
        "\r\n",
        "print(\"Average Delay\",avg_delayLifo)\r\n",
        "# for are\r\n",
        "if (clockListLifo[-1] ) == 0 :\r\n",
        "    print(\"E(Q) : No customer in queue to wait for service \")\r\n",
        "else:\r\n",
        "  EqLifo =  QtListLifo[-1] / clockListLifo[-1]\r\n",
        "  print(\"Expected number of customer in queue E(Q): \",EqLifo)\r\n",
        " #\r\n",
        "if (clockListLifo[-1] ) == 0 :\r\n",
        "    print(\"E(U) : Server was idle \")\r\n",
        "else:\r\n",
        "  resultLifo = ((BtListLifo[-1]  / clockListLifo[-1] ))\r\n",
        "  print(\"Expected utilization of server E(U): \",resultLifo)"
      ],
      "execution_count": 14,
      "outputs": [
        {
          "output_type": "stream",
          "text": [
            "iteration 0\n",
            "Clock: 0   Event: 5 , inf   Server Status: 0    Number Of Queue 0   Time Of Arrival []  Number Of Delay 0  Total Delay 0\n",
            "\n",
            " \n",
            "\n",
            "\n",
            " \n",
            "\n",
            "iteration 1\n",
            "Arrival: 5\n",
            "NextArrival 17\n",
            "Random Service : 1\n",
            "Clock: 5   Event: 8 , 6   Server Status: 1    Number Of Queue 0   Time Of Arrival []  Number Of Delay 1  Total Delay 0\n",
            "\n",
            " \n",
            "\n",
            "iteration 2\n",
            "Deperture: 6\n",
            "Clock: 6   Event: 8 , inf   Server Status: 0    Number Of Queue 0   Time Of Arrival []  Number Of Delay 1  Total Delay 0\n",
            "\n",
            " \n",
            "\n",
            "iteration 3\n",
            "Arrival: 8\n",
            "NextArrival 17\n",
            "Random Service : 3\n",
            "Clock: 8   Event: 6 , 11   Server Status: 1    Number Of Queue 0   Time Of Arrival []  Number Of Delay 2  Total Delay 0\n",
            "\n",
            " \n",
            "\n",
            "iteration 4\n",
            "Arrival: 6\n",
            "NextArrival 17\n",
            "Clock: 6   Event: 16 , 11   Server Status: 1    Number Of Queue 1   Time Of Arrival [6]  Number Of Delay 2  Total Delay 0\n",
            "\n",
            " \n",
            "\n",
            "iteration 5\n",
            "Deperture: 11\n",
            "6\n",
            "Random Service Time : 2\n",
            "Clock: 11   Event: 16 , 13   Server Status: 1    Number Of Queue 0   Time Of Arrival []  Number Of Delay 3  Total Delay 5\n",
            "\n",
            " \n",
            "\n",
            "Average Delay 0.8333333333333334\n",
            "Expected number of customer in queue E(Q):  0.45454545454545453\n",
            "Expected utilization of server E(U):  0.36363636363636365\n"
          ],
          "name": "stdout"
        }
      ]
    },
    {
      "cell_type": "code",
      "metadata": {
        "colab": {
          "base_uri": "https://localhost:8080/",
          "height": 1000
        },
        "id": "ZkVrHavrggAV",
        "outputId": "976830be-039d-44c1-94a1-c9426c2c1134"
      },
      "source": [
        "N=[5,10,15,20,25,30,35,40]\r\n",
        "LIFO_Ed = [0.0,1.1,0.0,0.05,0.0,0.0,0.6571428571428571,0.575]\r\n",
        "Eq_lifo= [0.0,-1.1666666666666667,2.272727272727273,5.5,-7.571428571428571,-30.25,-3.4285714285714284,-2.2857142857142856]\r\n",
        "Eu_lifo=[-0.16666666666666666,-0.16666666666666666,-0.09090909090909091\r\n",
        ",  0.34615384615384615,-1.1428571428571428,-3.0,-0.14285714285714285, 0.2857142857142857]\r\n",
        "\r\n",
        "\r\n",
        "plt.plot(N,LIFO_Ed)\r\n",
        "# naming the x-axis \r\n",
        "print()\r\n",
        "plt.xlabel('Number of customer') \r\n",
        "# naming the y-axis \r\n",
        "plt.ylabel('Average E(D)') \r\n",
        "# plot title \r\n",
        "print()\r\n",
        "plt.title('E(D) vs N graph') \r\n",
        "# function to show the plot \r\n",
        "plt.show() \r\n",
        "print()\r\n",
        "print()\r\n",
        "\r\n",
        "#E(Q) vs N graph\r\n",
        "plt.plot(N,Eq_lifo)\r\n",
        "print()\r\n",
        "plt.xlabel('Number of customer')  \r\n",
        "plt.ylabel('Everage E(Q)')\r\n",
        "print()\r\n",
        "plt.title('E(Q) vs N graph') \r\n",
        "plt.show() \r\n",
        "print()\r\n",
        "print()\r\n",
        "\r\n",
        "\r\n",
        "#E(U) vs N graph \r\n",
        "plt.plot(N,Eu_lifo)\r\n",
        "# naming the x-axis \r\n",
        "print()\r\n",
        "plt.xlabel('Number of customer') \r\n",
        "# naming the y-axis \r\n",
        "plt.ylabel('Everage E(U)') \r\n",
        "# plot title \r\n",
        "print()\r\n",
        "plt.title('E(U) vs N graph') \r\n",
        "# function to show the plot \r\n",
        "plt.show() "
      ],
      "execution_count": 15,
      "outputs": [
        {
          "output_type": "stream",
          "text": [
            "\n",
            "\n"
          ],
          "name": "stdout"
        },
        {
          "output_type": "display_data",
          "data": {
            "image/png": "[encoded data removed]",
            "text/plain": [
              "<Figure size 432x288 with 1 Axes>"
            ]
          },
          "metadata": {
            "tags": [],
            "needs_background": "light"
          }
        },
        {
          "output_type": "stream",
          "text": [
            "\n",
            "\n",
            "\n",
            "\n"
          ],
          "name": "stdout"
        },
        {
          "output_type": "display_data",
          "data": {
            "image/png": "[encoded data removed]",
            "text/plain": [
              "<Figure size 432x288 with 1 Axes>"
            ]
          },
          "metadata": {
            "tags": [],
            "needs_background": "light"
          }
        },
        {
          "output_type": "stream",
          "text": [
            "\n",
            "\n",
            "\n",
            "\n"
          ],
          "name": "stdout"
        },
        {
          "output_type": "display_data",
          "data": {
            "image/png": "[encoded data removed]",
            "text/plain": [
              "<Figure size 432x288 with 1 Axes>"
            ]
          },
          "metadata": {
            "tags": [],
            "needs_background": "light"
          }
        }
      ]
    },
    {
      "cell_type": "markdown",
      "metadata": {
        "id": "w7NPx6DwX5OB"
      },
      "source": [
        "###**SJF**"
      ]
    },
    {
      "cell_type": "code",
      "metadata": {
        "id": "R-b_8W9eORz-"
      },
      "source": [
        "clockSjf = 0\r\n",
        "#DepertureSjf=np.inf\r\n",
        "serverStatusSjf =0\r\n",
        "numberOfQueueSjf=0\r\n",
        "numberOfDelaySjf=0\r\n",
        "totalDelaySjf=0\r\n",
        "areaUnderSjf=0\r\n",
        "timeOfArrivalSjf=[]\r\n",
        "clockListSjf =[]\r\n",
        "serverStatusListSjf =[]\r\n",
        "numberOfQueueListSjf =[]\r\n",
        "ArrivalSjf=0\r\n",
        "QtSjf=0\r\n",
        "QtListSjf=[]\r\n",
        "BtSjf=0\r\n",
        "BtListSjf =[]\r\n",
        "mListSjf = []\r\n"
      ],
      "execution_count": 16,
      "outputs": []
    },
    {
      "cell_type": "code",
      "metadata": {
        "colab": {
          "base_uri": "https://localhost:8080/",
          "height": 452
        },
        "id": "Q8a9tzdLOKu2",
        "outputId": "60cf24b3-aa06-4320-a21a-1328352a3dba"
      },
      "source": [
        "for j in range(n):\r\n",
        "  print(\"iteration:\",j)\r\n",
        "  if (j==0):\r\n",
        "    DepertureSjf=np.inf\r\n",
        "    serverStatusSjf =0\r\n",
        "    serverStatusListSjf.append(serverStatusSjf)\r\n",
        "    numberOfQueueSjf=0\r\n",
        "    numberOfQueueListSjf.append(numberOfQueueSjf)\r\n",
        "    numberOfDelaySjf=0\r\n",
        "    totalDelaySjf=0\r\n",
        "    #areaUnderSjf=0\r\n",
        "    print(\"Clock:\",clockSjf,\"  Event:\",ArrivalSjf,\",\",DepertureSjf,\"  Server Status:\",serverStatusSjf,\"   Number Of Queue\",numberOfQueueSjf,\"  Time Of Arrival\",timeOfArrivalSjf,\" Number Of Delay\",numberOfDelaySjf,\" Total Delay\",totalDelaySjf)\r\n",
        "    print(\"\\n \\n\") \r\n",
        "  if (j>0):\r\n",
        "    if (ArrivalSjf<DepertureSjf):\r\n",
        "      clockSjf=ArrivalSjf\r\n",
        "      clockListSjf.append(clockSjf)\r\n",
        "      print(\"Arrival:\",clockSjf)\r\n",
        "      serverStatusListSjf.append(serverStatusSjf)\r\n",
        "      numberOfQueueListSjf.append(numberOfQueueSjf)\r\n",
        "      ArrivalSjf=(arrivalTime[j])\r\n",
        "      print(\"NextArrival\",ArrivalSjf)\r\n",
        "      if (serverStatusSjf ==0):\r\n",
        "        totalDelaySjf=0\r\n",
        "        numberOfDelaySjf +=1\r\n",
        "        serverStatusSjf +=1\r\n",
        "        serverStatusListSjf.append(serverStatusSjf)\r\n",
        "        numberOfQueueListSjf.append(numberOfQueueSjf)\r\n",
        "        mSjf=np.random.geometric(ps,None)\r\n",
        "        print(\"Random Service Time :\",mSjf)\r\n",
        "        DepertureSjf=clockSjf+(mSjf)\r\n",
        "        QtSjf=QtSjf+((clockListSjf[-1]-clockListSjf[-2])*numberOfQueueListSjf[-2])\r\n",
        "        QtListSjf.append(QtSjf)\r\n",
        "        BtSjf = BtSjf + ((clockListSjf[-1]-clockListSjf[-2]) *serverStatusListSjf[-2])\r\n",
        "        BtListSjf.append(BtSjf)\r\n",
        "        #Deperture=clock+serviceTime[j-1]\r\n",
        "        print(\"Clock:\",clockSjf,\"  Event:\",ArrivalSjf,\",\",DepertureSjf,\"  Server Status:\",serverStatusSjf,\"   Number Of Queue\",numberOfQueueSjf,\"  Time Of Arrival\",timeOfArrivalSjf,\" Number Of Delay\",numberOfDelaySjf,\" Total Delay\",totalDelaySjf)\r\n",
        "      else:\r\n",
        "        numberOfQueueSjf+=1\r\n",
        "        numberOfQueueListSjf.append(numberOfQueueSjf)\r\n",
        "        serverStatusListSjf.append(serverStatusSjf)\r\n",
        "        timeOfArrivalSjf.append(clockSjf)\r\n",
        "        mSjf=np.random.geometric(ps,None)\r\n",
        "        mListSjf.append(mSjf)\r\n",
        "        QtSjf=QtSjf+((clockListSjf[-1]-clockListSjf[-2])*numberOfQueueListSjf[-2])\r\n",
        "        QtListSjf.append(QtSjf)\r\n",
        "        BtSjf = BtSjf + ((clockListSjf[-1]-clockListSjf[-2]) *serverStatusListSjf[-2])\r\n",
        "        BtListSjf.append(BtSjf)\r\n",
        "        print(\"Clock:\",clockSjf,\"  Event:\",ArrivalSjf,\",\",DepertureSjf,\"  Server Status:\",serverStatusSjf,\"   Number Of Queue\",numberOfQueueSjf,\"  Time Of Arrival\",timeOfArrivalSjf,\" Number Of Delay\",numberOfDelaySjf,\" Total Delay\",totalDelaySjf)   \r\n",
        "\r\n",
        "    else:\r\n",
        "      clockSjf=DepertureSjf\r\n",
        "      clockListSjf.append(clockSjf)\r\n",
        "      print(\"Deperture:\",DepertureSjf)\r\n",
        "      if (numberOfQueueSjf !=0):\r\n",
        "        numberOfQueueSjf -=1\r\n",
        "        numberOfQueueListSjf.append(numberOfQueueSjf)\r\n",
        "        zipped_lists = zip(mListSjf, timeOfArrivalSjf)\r\n",
        "        \r\n",
        "        z = [x for _, x in sorted(zipped_lists)]\r\n",
        "\r\n",
        "        sorted =Z.pop(0)\r\n",
        "        totalDelaySjf =(totalDelaySjf + (clockSjf - sorted))\r\n",
        "\r\n",
        "        numberOfDelaySjf +=1\r\n",
        "        p=np.random.geometric(ps,None)\r\n",
        "        print(\"Random Service Time :\",p)\r\n",
        "        DepertureSjf=clockSjf+(p)\r\n",
        "        QtSjf=QtSjf+((clockListSjf[-1]-clockListSjf[-2])*numberOfQueueListSjf[-2])\r\n",
        "        QtListSjf.append(QtSjf)\r\n",
        "        BtSjf = BtSjf + ((clockListSjf[-1]-clockListSjf[-2]) *serverStatusListSjf[-2])\r\n",
        "        BtListSjf.append(BtSjf)\r\n",
        "        #Deperture=clock+serviceTime[operator.add((j-1), 1)]\r\n",
        "        print(\"Clock:\",clockSjf,\"  Event:\",ArrivalSjf,\",\",DepertureSjf,\"  Server Status:\",serverStatusSjf,\"   Number Of Queue\",numberOfQueueSjf,\"  Time Of Arrival\",timeOfArrivalSjf,\" Number Of Delay\",numberOfDelaySjf,\" Total Delay\",totalDelaySjf)\r\n",
        "      else:\r\n",
        "        serverStatusSjf =0\r\n",
        "        serverStatusListSjf.append(serverStatusSjf)\r\n",
        "        numberOfQueueListSjf.append(numberOfQueueSjf)\r\n",
        "        DepertureSjf =np.inf\r\n",
        "        QtSjf=QtSjf+((clockListSjf[-1]-clockListSjf[-2])*numberOfQueueListSjf[-2])\r\n",
        "        QtListSjf.append(QtSjf)\r\n",
        "        BtSjf = BtSjf + ((clockListSjf[-1]-clockListSjf[-2]) *serverStatusListSjf[-2])\r\n",
        "        BtListSjf.append(BtSjf)\r\n",
        "        print(\"Clock:\",clockSjf,\"  Event:\",ArrivalSjf,\",\",DepertureSjf,\"  Server Status:\",serverStatusSjf,\"   Number Of Queue\",numberOfQueueSjf,\"  Time Of Arrival\",timeOfArrivalSjf,\" Number Of Delay\",numberOfDelaySjf,\" Total Delay\",totalDelaySjf)\r\n",
        "         \r\n",
        "\r\n",
        "\r\n",
        "\r\n",
        "\r\n",
        "  print(\"\\n \\n\") \r\n",
        "avg_delaySjf = totalDelaySjf/n\r\n",
        "\r\n",
        "print(\"Average Delay\",avg_delaySjf)\r\n",
        "# for are\r\n",
        "if (clockListSjf[-1] ) == 0 :\r\n",
        "    print(\"E(Q) : No customer in queue to wait for service \")\r\n",
        "else:\r\n",
        "  EqSjf =  QtListSjf[-1] / clockListSjf[-1]\r\n",
        "  print(\"Expected number of customer in queue E(Q): \",EqSjf)\r\n",
        " #\r\n",
        "if (clockListSjf[-1] ) == 0 :\r\n",
        "    print(\"E(U) : Server was idle \")\r\n",
        "else:\r\n",
        "  resultSjf = ((BtListSjf[-1]  / clockListSjf[-1] ))\r\n",
        "  print(\"Expected utilization of server E(U): \",resultSjf)\r\n",
        "      "
      ],
      "execution_count": 17,
      "outputs": [
        {
          "output_type": "stream",
          "text": [
            "iteration: 0\n",
            "Clock: 0   Event: 0 , inf   Server Status: 0    Number Of Queue 0   Time Of Arrival []  Number Of Delay 0  Total Delay 0\n",
            "\n",
            " \n",
            "\n",
            "\n",
            " \n",
            "\n",
            "iteration: 1\n",
            "Arrival: 0\n",
            "NextArrival 8\n",
            "Random Service Time : 1\n"
          ],
          "name": "stdout"
        },
        {
          "output_type": "error",
          "ename": "IndexError",
          "evalue": "ignored",
          "traceback": [
            "\u001b[0;31m---------------------------------------------------------------------------\u001b[0m",
            "\u001b[0;31mIndexError\u001b[0m                                Traceback (most recent call last)",
            "\u001b[0;32m<ipython-input-17-342c509bc435>\u001b[0m in \u001b[0;36m<module>\u001b[0;34m()\u001b[0m\n\u001b[1;32m     30\u001b[0m         \u001b[0mprint\u001b[0m\u001b[0;34m(\u001b[0m\u001b[0;34m\"Random Service Time :\"\u001b[0m\u001b[0;34m,\u001b[0m\u001b[0mmSjf\u001b[0m\u001b[0;34m)\u001b[0m\u001b[0;34m\u001b[0m\u001b[0;34m\u001b[0m\u001b[0m\n\u001b[1;32m     31\u001b[0m         \u001b[0mDepertureSjf\u001b[0m\u001b[0;34m=\u001b[0m\u001b[0mclockSjf\u001b[0m\u001b[0;34m+\u001b[0m\u001b[0;34m(\u001b[0m\u001b[0mmSjf\u001b[0m\u001b[0;34m)\u001b[0m\u001b[0;34m\u001b[0m\u001b[0;34m\u001b[0m\u001b[0m\n\u001b[0;32m---> 32\u001b[0;31m         \u001b[0mQtSjf\u001b[0m\u001b[0;34m=\u001b[0m\u001b[0mQtSjf\u001b[0m\u001b[0;34m+\u001b[0m\u001b[0;34m(\u001b[0m\u001b[0;34m(\u001b[0m\u001b[0mclockListSjf\u001b[0m\u001b[0;34m[\u001b[0m\u001b[0;34m-\u001b[0m\u001b[0;36m1\u001b[0m\u001b[0;34m]\u001b[0m\u001b[0;34m-\u001b[0m\u001b[0mclockListSjf\u001b[0m\u001b[0;34m[\u001b[0m\u001b[0;34m-\u001b[0m\u001b[0;36m2\u001b[0m\u001b[0;34m]\u001b[0m\u001b[0;34m)\u001b[0m\u001b[0;34m*\u001b[0m\u001b[0mnumberOfQueueListSjf\u001b[0m\u001b[0;34m[\u001b[0m\u001b[0;34m-\u001b[0m\u001b[0;36m2\u001b[0m\u001b[0;34m]\u001b[0m\u001b[0;34m)\u001b[0m\u001b[0;34m\u001b[0m\u001b[0;34m\u001b[0m\u001b[0m\n\u001b[0m\u001b[1;32m     33\u001b[0m         \u001b[0mQtListSjf\u001b[0m\u001b[0;34m.\u001b[0m\u001b[0mappend\u001b[0m\u001b[0;34m(\u001b[0m\u001b[0mQtSjf\u001b[0m\u001b[0;34m)\u001b[0m\u001b[0;34m\u001b[0m\u001b[0;34m\u001b[0m\u001b[0m\n\u001b[1;32m     34\u001b[0m         \u001b[0mBtSjf\u001b[0m \u001b[0;34m=\u001b[0m \u001b[0mBtSjf\u001b[0m \u001b[0;34m+\u001b[0m \u001b[0;34m(\u001b[0m\u001b[0;34m(\u001b[0m\u001b[0mclockListSjf\u001b[0m\u001b[0;34m[\u001b[0m\u001b[0;34m-\u001b[0m\u001b[0;36m1\u001b[0m\u001b[0;34m]\u001b[0m\u001b[0;34m-\u001b[0m\u001b[0mclockListSjf\u001b[0m\u001b[0;34m[\u001b[0m\u001b[0;34m-\u001b[0m\u001b[0;36m2\u001b[0m\u001b[0;34m]\u001b[0m\u001b[0;34m)\u001b[0m \u001b[0;34m*\u001b[0m\u001b[0mserverStatusListSjf\u001b[0m\u001b[0;34m[\u001b[0m\u001b[0;34m-\u001b[0m\u001b[0;36m2\u001b[0m\u001b[0;34m]\u001b[0m\u001b[0;34m)\u001b[0m\u001b[0;34m\u001b[0m\u001b[0;34m\u001b[0m\u001b[0m\n",
            "\u001b[0;31mIndexError\u001b[0m: list index out of range"
          ]
        }
      ]
    }
  ]
}